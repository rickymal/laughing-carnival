{
 "cells": [
  {
   "cell_type": "markdown",
   "id": "ecab0ed1",
   "metadata": {
    "papermill": {
     "duration": 0.047043,
     "end_time": "2022-03-25T16:23:28.716309",
     "exception": false,
     "start_time": "2022-03-25T16:23:28.669266",
     "status": "completed"
    },
    "tags": []
   },
   "source": [
    "## Give credit to Notebook: \n",
    "[Basic EDA, Cleaning and Glove][1].\n",
    "\n",
    "**Great introduction for Nature language processing!**\n",
    "\n",
    "[1]: https://www.kaggle.com/code/shahules/basic-eda-cleaning-and-glove"
   ]
  },
  {
   "cell_type": "markdown",
   "id": "3f48f2e3",
   "metadata": {
    "papermill": {
     "duration": 0.045496,
     "end_time": "2022-03-25T16:23:28.810978",
     "exception": false,
     "start_time": "2022-03-25T16:23:28.765482",
     "status": "completed"
    },
    "tags": []
   },
   "source": [
    "## Import libries and load datasets"
   ]
  },
  {
   "cell_type": "code",
   "execution_count": 1,
   "id": "e9978006",
   "metadata": {
    "_cell_guid": "b1076dfc-b9ad-4769-8c92-a6c4dae69d19",
    "_uuid": "8f2839f25d086af736a60e9eeb907d3b93b6e0e5",
    "execution": {
     "iopub.execute_input": "2022-03-25T16:23:28.916434Z",
     "iopub.status.busy": "2022-03-25T16:23:28.915757Z",
     "iopub.status.idle": "2022-03-25T16:23:35.175317Z",
     "shell.execute_reply": "2022-03-25T16:23:35.174669Z",
     "shell.execute_reply.started": "2022-03-25T15:07:19.105216Z"
    },
    "papermill": {
     "duration": 6.317944,
     "end_time": "2022-03-25T16:23:35.175482",
     "exception": false,
     "start_time": "2022-03-25T16:23:28.857538",
     "status": "completed"
    },
    "tags": []
   },
   "outputs": [],
   "source": [
    "import numpy as np\n",
    "import tensorflow as tf\n",
    "import matplotlib.pyplot as plt\n",
    "import csv\n",
    "import pandas as pd\n",
    "import re\n",
    "import seaborn as sns\n",
    "import string\n",
    "from tqdm import tqdm\n",
    "from collections import defaultdict\n",
    "from nltk.tokenize import word_tokenize\n",
    "from nltk.corpus import stopwords\n",
    "from keras.initializers import Constant\n",
    "from tensorflow.keras.optimizers import Adam\n",
    "from tensorflow.keras.preprocessing.text import Tokenizer\n",
    "from tensorflow.keras.preprocessing.sequence import pad_sequences\n",
    "from tensorflow.keras.optimizers import RMSprop\n",
    "from tensorflow.keras.layers import LSTM, Embedding, Dense, SpatialDropout1D, Bidirectional\n",
    "from sklearn.model_selection import train_test_split\n",
    "from sklearn.feature_extraction.text import CountVectorizer"
   ]
  },
  {
   "cell_type": "code",
   "execution_count": 2,
   "id": "409249f9",
   "metadata": {
    "execution": {
     "iopub.execute_input": "2022-03-25T16:23:35.272818Z",
     "iopub.status.busy": "2022-03-25T16:23:35.272031Z",
     "iopub.status.idle": "2022-03-25T16:23:35.328619Z",
     "shell.execute_reply": "2022-03-25T16:23:35.328193Z",
     "shell.execute_reply.started": "2022-03-25T15:07:27.313756Z"
    },
    "papermill": {
     "duration": 0.10679,
     "end_time": "2022-03-25T16:23:35.328738",
     "exception": false,
     "start_time": "2022-03-25T16:23:35.221948",
     "status": "completed"
    },
    "tags": []
   },
   "outputs": [],
   "source": [
    "train_df = pd.read_csv(\"/kaggle/input/nlp-getting-started/train.csv\")\n",
    "test_df = pd.read_csv(\"/kaggle/input/nlp-getting-started/test.csv\")"
   ]
  },
  {
   "cell_type": "code",
   "execution_count": 3,
   "id": "79c513e0",
   "metadata": {
    "execution": {
     "iopub.execute_input": "2022-03-25T16:23:35.434930Z",
     "iopub.status.busy": "2022-03-25T16:23:35.424263Z",
     "iopub.status.idle": "2022-03-25T16:23:35.437925Z",
     "shell.execute_reply": "2022-03-25T16:23:35.438339Z",
     "shell.execute_reply.started": "2022-03-25T15:07:27.404974Z"
    },
    "papermill": {
     "duration": 0.062876,
     "end_time": "2022-03-25T16:23:35.438466",
     "exception": false,
     "start_time": "2022-03-25T16:23:35.375590",
     "status": "completed"
    },
    "tags": []
   },
   "outputs": [
    {
     "data": {
      "text/plain": [
       "0       1\n",
       "1       1\n",
       "2       1\n",
       "3       1\n",
       "4       1\n",
       "       ..\n",
       "7608    1\n",
       "7609    1\n",
       "7610    1\n",
       "7611    1\n",
       "7612    1\n",
       "Name: target, Length: 7613, dtype: int64"
      ]
     },
     "execution_count": 3,
     "metadata": {},
     "output_type": "execute_result"
    }
   ],
   "source": [
    "train_df['target']"
   ]
  },
  {
   "cell_type": "markdown",
   "id": "2c6441fa",
   "metadata": {
    "papermill": {
     "duration": 0.046025,
     "end_time": "2022-03-25T16:23:35.530944",
     "exception": false,
     "start_time": "2022-03-25T16:23:35.484919",
     "status": "completed"
    },
    "tags": []
   },
   "source": [
    "## Have a first look at the tweet dataset"
   ]
  },
  {
   "cell_type": "code",
   "execution_count": 4,
   "id": "b8109161",
   "metadata": {
    "execution": {
     "iopub.execute_input": "2022-03-25T16:23:35.636520Z",
     "iopub.status.busy": "2022-03-25T16:23:35.635678Z",
     "iopub.status.idle": "2022-03-25T16:23:35.783369Z",
     "shell.execute_reply": "2022-03-25T16:23:35.784262Z",
     "shell.execute_reply.started": "2022-03-25T15:07:27.429820Z"
    },
    "papermill": {
     "duration": 0.207072,
     "end_time": "2022-03-25T16:23:35.784493",
     "exception": false,
     "start_time": "2022-03-25T16:23:35.577421",
     "status": "completed"
    },
    "tags": []
   },
   "outputs": [
    {
     "data": {
      "image/png": "[encoded data removed]",
      "text/plain": [
       "<Figure size 576x576 with 1 Axes>"
      ]
     },
     "metadata": {},
     "output_type": "display_data"
    }
   ],
   "source": [
    "# create pie chart for our labels data\n",
    "plt.figure(figsize = [8,8])\n",
    "colors = sns.color_palette('bright')\n",
    "plt.pie(train_df.target.value_counts(), labels = ['non-disaster', 'disaster'], colors = colors, autopct='%1.2f%%')\n",
    "plt.title('Pie Chart to show the non-disaster Verse disaster')\n",
    "\n",
    "plt.show()"
   ]
  },
  {
   "cell_type": "markdown",
   "id": "7fe601ef",
   "metadata": {
    "papermill": {
     "duration": 0.046976,
     "end_time": "2022-03-25T16:23:35.909407",
     "exception": false,
     "start_time": "2022-03-25T16:23:35.862431",
     "status": "completed"
    },
    "tags": []
   },
   "source": [
    "Note that we have more non-disaster tweets than disaster tweets in our training dataset"
   ]
  },
  {
   "cell_type": "markdown",
   "id": "63df1f47",
   "metadata": {
    "papermill": {
     "duration": 0.047149,
     "end_time": "2022-03-25T16:23:36.003446",
     "exception": false,
     "start_time": "2022-03-25T16:23:35.956297",
     "status": "completed"
    },
    "tags": []
   },
   "source": [
    "### understand the distribution of the chars/ words counts for the datase\n",
    "\n",
    "**find out how many characters in each tweets**"
   ]
  },
  {
   "cell_type": "code",
   "execution_count": 5,
   "id": "00dbc2b9",
   "metadata": {
    "execution": {
     "iopub.execute_input": "2022-03-25T16:23:36.106627Z",
     "iopub.status.busy": "2022-03-25T16:23:36.105780Z",
     "iopub.status.idle": "2022-03-25T16:23:36.397496Z",
     "shell.execute_reply": "2022-03-25T16:23:36.396835Z",
     "shell.execute_reply.started": "2022-03-25T15:07:27.647985Z"
    },
    "papermill": {
     "duration": 0.347505,
     "end_time": "2022-03-25T16:23:36.397639",
     "exception": false,
     "start_time": "2022-03-25T16:23:36.050134",
     "status": "completed"
    },
    "tags": []
   },
   "outputs": [
    {
     "data": {
      "image/png": "[encoded data removed]",
      "text/plain": [
       "<Figure size 720x360 with 2 Axes>"
      ]
     },
     "metadata": {
      "needs_background": "light"
     },
     "output_type": "display_data"
    }
   ],
   "source": [
    "fig, (ax1, ax2)=plt.subplots(1,2,figsize = (10,5))\n",
    "nondisaster_tweets_len = train_df[train_df['target']==0]['text'].str.len()\n",
    "ax1.hist(nondisaster_tweets_len, color = 'blue')\n",
    "ax1.set_title('non-disaster tweets')\n",
    "\n",
    "disaster_tweets_len = train_df[train_df['target']==1]['text'].str.len()\n",
    "ax2.hist(disaster_tweets_len, color = 'red')\n",
    "ax2.set_title('disaster tweets')\n",
    "\n",
    "fig.suptitle('Characters count in tweets')\n",
    "plt.show()"
   ]
  },
  {
   "cell_type": "markdown",
   "id": "afc5ec27",
   "metadata": {
    "papermill": {
     "duration": 0.0476,
     "end_time": "2022-03-25T16:23:36.493399",
     "exception": false,
     "start_time": "2022-03-25T16:23:36.445799",
     "status": "completed"
    },
    "tags": []
   },
   "source": [
    "**find out how many words are used in each tweet**"
   ]
  },
  {
   "cell_type": "code",
   "execution_count": 6,
   "id": "51299b74",
   "metadata": {
    "execution": {
     "iopub.execute_input": "2022-03-25T16:23:36.600060Z",
     "iopub.status.busy": "2022-03-25T16:23:36.599219Z",
     "iopub.status.idle": "2022-03-25T16:23:36.951991Z",
     "shell.execute_reply": "2022-03-25T16:23:36.951399Z",
     "shell.execute_reply.started": "2022-03-25T15:07:28.040104Z"
    },
    "papermill": {
     "duration": 0.410513,
     "end_time": "2022-03-25T16:23:36.952172",
     "exception": false,
     "start_time": "2022-03-25T16:23:36.541659",
     "status": "completed"
    },
    "tags": []
   },
   "outputs": [
    {
     "data": {
      "image/png": "[encoded data removed]",
      "text/plain": [
       "<Figure size 720x360 with 2 Axes>"
      ]
     },
     "metadata": {
      "needs_background": "light"
     },
     "output_type": "display_data"
    },
    {
     "name": "stdout",
     "output_type": "stream",
     "text": [
      "Non-disaster dataset:\n",
      "       words count\n",
      "count  4342.000000\n",
      "mean     14.704744\n",
      "std       6.161564\n",
      "min       1.000000\n",
      "25%      10.000000\n",
      "50%      15.000000\n",
      "75%      19.000000\n",
      "max      31.000000\n",
      "disaster dataset:\n",
      "       words count\n",
      "count  3271.000000\n",
      "mean     15.167533\n",
      "std       5.096806\n",
      "min       2.000000\n",
      "25%      11.000000\n",
      "50%      15.000000\n",
      "75%      19.000000\n",
      "max      30.000000\n"
     ]
    }
   ],
   "source": [
    "word_count0 = []\n",
    "word_count1 = []\n",
    "non_disaster_tweets = train_df[train_df['target'] == 0]['text'].values\n",
    "disaster_tweets = train_df[train_df['target'] == 1]['text'].values\n",
    "for i in range(non_disaster_tweets.shape[0]):\n",
    "    cur_wordcount = len(non_disaster_tweets[i].split())\n",
    "    word_count0.append(cur_wordcount)\n",
    "for i in range(disaster_tweets.shape[0]):\n",
    "    cur_wordcount = len(disaster_tweets[i].split())\n",
    "    word_count1.append(cur_wordcount)\n",
    "\n",
    "fig, (ax1, ax2)=plt.subplots(1,2,figsize = (10,5))\n",
    "ax1.hist(word_count0, color = 'blue')\n",
    "ax1.set_title('non disaster tweets')\n",
    "\n",
    "notdisaster_tweets_len = train_df[train_df['target']==0]['text'].str.len()\n",
    "ax2.hist(word_count1, color = 'red')\n",
    "ax2.set_title('disaster tweets')\n",
    "\n",
    "fig.suptitle('Words count in tweets')\n",
    "plt.show()\n",
    "\n",
    "## have some statistic info for non-disaster and disaster dataset\n",
    "df1 = pd.DataFrame (word_count0, columns = ['words count'])\n",
    "print('Non-disaster dataset:')\n",
    "print(df1.describe())\n",
    "\n",
    "df2 = pd.DataFrame (word_count1, columns = ['words count'])\n",
    "print('disaster dataset:')\n",
    "print(df2.describe())"
   ]
  },
  {
   "cell_type": "markdown",
   "id": "e6d42ddc",
   "metadata": {
    "papermill": {
     "duration": 0.050579,
     "end_time": "2022-03-25T16:23:37.054712",
     "exception": false,
     "start_time": "2022-03-25T16:23:37.004133",
     "status": "completed"
    },
    "tags": []
   },
   "source": [
    "We notice that the average of words and characters used in either non-disaster and disaster tweets are similar."
   ]
  },
  {
   "cell_type": "markdown",
   "id": "2966a781",
   "metadata": {
    "papermill": {
     "duration": 0.05208,
     "end_time": "2022-03-25T16:23:37.159256",
     "exception": false,
     "start_time": "2022-03-25T16:23:37.107176",
     "status": "completed"
    },
    "tags": []
   },
   "source": [
    "### Find some most common words in non-disaster and disaster tweets\n",
    "\n",
    "Ref: [How to list the most common words from text corpus using Scikit-learn][1]\n",
    "\n",
    "[1]: https://medium.com/@cristhianboujon/how-to-list-the-most-common-words-from-text-corpus-using-scikit-learn-dad4d0cab41d"
   ]
  },
  {
   "cell_type": "code",
   "execution_count": 7,
   "id": "3b1b4b65",
   "metadata": {
    "execution": {
     "iopub.execute_input": "2022-03-25T16:23:37.285863Z",
     "iopub.status.busy": "2022-03-25T16:23:37.284959Z",
     "iopub.status.idle": "2022-03-25T16:23:38.157507Z",
     "shell.execute_reply": "2022-03-25T16:23:38.157912Z",
     "shell.execute_reply.started": "2022-03-25T15:07:28.476301Z"
    },
    "papermill": {
     "duration": 0.940336,
     "end_time": "2022-03-25T16:23:38.158075",
     "exception": false,
     "start_time": "2022-03-25T16:23:37.217739",
     "status": "completed"
    },
    "tags": []
   },
   "outputs": [
    {
     "data": {
      "image/png": "[encoded data removed]",
      "text/plain": [
       "<Figure size 1080x720 with 1 Axes>"
      ]
     },
     "metadata": {
      "needs_background": "light"
     },
     "output_type": "display_data"
    },
    {
     "data": {
      "image/png": "[encoded data removed]",
      "text/plain": [
       "<Figure size 1080x720 with 1 Axes>"
      ]
     },
     "metadata": {
      "needs_background": "light"
     },
     "output_type": "display_data"
    }
   ],
   "source": [
    "def get_top_n_words_include_stopwords(corpus, n=None, figsize = [15, 10], title = None):\n",
    "    vec = CountVectorizer().fit(corpus)\n",
    "    bag_of_words = vec.transform(corpus)\n",
    "    sum_words = bag_of_words.sum(axis = 0)\n",
    "    words_freq = [(word, sum_words[0, idx]) for word, idx in vec.vocabulary_.items()]\n",
    "    words_freq = sorted(words_freq, key = lambda x: x[1], reverse=True)\n",
    "    # Create a bar chart to show the top freqs words\n",
    "    words = []\n",
    "    freqs = []\n",
    "    for word, freq in words_freq[:n]:\n",
    "        words.append(word)\n",
    "        freqs.append(freq)\n",
    "    plt.figure(figsize = figsize)\n",
    "    plt.bar(words, freqs, width = 0.8)\n",
    "    plt.title('Top {} Words in {} Tweets Before Removeing Stopwords'.format(n, title))\n",
    "    plt.xlabel(\"Top Words\")\n",
    "    plt.ylabel(\"NO. of times it appeard\")\n",
    "    plt.show()\n",
    "    return words_freq[:n]\n",
    "# create bar chart to show the top 20 words in non_disaster tweets\n",
    "non_disaster_tweets = train_df[train_df['target']==0]['text']\n",
    "topwords_nondisaster = get_top_n_words_include_stopwords(non_disaster_tweets, n=20, title = 'Non-disaster')\n",
    "\n",
    "\n",
    "# create bar chart to show the top 20 words in disaster tweets\n",
    "disaster_tweets = train_df[train_df['target']==1]['text']\n",
    "topwords_disaster = get_top_n_words_include_stopwords(disaster_tweets, n=20, title = 'disaster')"
   ]
  },
  {
   "cell_type": "markdown",
   "id": "ed51df31",
   "metadata": {
    "papermill": {
     "duration": 0.05158,
     "end_time": "2022-03-25T16:23:38.262273",
     "exception": false,
     "start_time": "2022-03-25T16:23:38.210693",
     "status": "completed"
    },
    "tags": []
   },
   "source": [
    "Notice that most of the top words occurs in both datasets are some common stop words and url, such as http, the, in, of, etc. Those stopwords are not good indicators for our model to identify the difference between non-disaster tweets and disaster tweets. \n",
    "\n",
    "**Lets remove the stopwords and check again about the most frequently appeared words**\n",
    "\n",
    "In the following section, I will remove common stopwords in the datasets. However, we noticed that some top words are not commonly considered as regular stopwords, such as **http** and **co**. But **http** and **co** are commonly found in urls, so we need to remove urls in our preprocessing steps later. \n",
    "\n",
    "For now, I will include **http** and **co** in the stopwords if they are not included already, so we can remove them and see other top frecrently appeared words in our tweets datasets."
   ]
  },
  {
   "cell_type": "code",
   "execution_count": 8,
   "id": "e44fa482",
   "metadata": {
    "execution": {
     "iopub.execute_input": "2022-03-25T16:23:38.371154Z",
     "iopub.status.busy": "2022-03-25T16:23:38.370541Z",
     "iopub.status.idle": "2022-03-25T16:23:38.378599Z",
     "shell.execute_reply": "2022-03-25T16:23:38.378012Z",
     "shell.execute_reply.started": "2022-03-25T15:07:29.699379Z"
    },
    "papermill": {
     "duration": 0.065033,
     "end_time": "2022-03-25T16:23:38.378747",
     "exception": false,
     "start_time": "2022-03-25T16:23:38.313714",
     "status": "completed"
    },
    "tags": []
   },
   "outputs": [
    {
     "name": "stdout",
     "output_type": "stream",
     "text": [
      "['û_', 'co', 'https', 'http', 'like', 'fire']\n"
     ]
    }
   ],
   "source": [
    "# create a set to contain all top words in our non-disaster tweets and disaster tweets\n",
    "# then, compare the set of words with our stopwords to check if we need to add anything\n",
    "words_set = set()\n",
    "topwords = topwords_nondisaster + topwords_disaster\n",
    "for word, freq in topwords:\n",
    "    words_set.add(word)\n",
    "stop = set(stopwords.words('english'))\n",
    "## check if our stop words contains some common topwords here:\n",
    "not_inside = []\n",
    "for topword in words_set:\n",
    "    if not topword in stop:\n",
    "        not_inside.append(topword)\n",
    "print(not_inside)"
   ]
  },
  {
   "cell_type": "markdown",
   "id": "ac377ec2",
   "metadata": {
    "papermill": {
     "duration": 0.051068,
     "end_time": "2022-03-25T16:23:38.482609",
     "exception": false,
     "start_time": "2022-03-25T16:23:38.431541",
     "status": "completed"
    },
    "tags": []
   },
   "source": [
    "As we thought earlier, words like **co** and **http** are not included in the **stopwords**, lets include them! \n",
    "\n",
    "Since words like **fire**, **like**, **https**, **û_** only appear to be top 20 words on either one of the datasets, we will keep them."
   ]
  },
  {
   "cell_type": "code",
   "execution_count": 9,
   "id": "f6b88154",
   "metadata": {
    "execution": {
     "iopub.execute_input": "2022-03-25T16:23:38.589636Z",
     "iopub.status.busy": "2022-03-25T16:23:38.588963Z",
     "iopub.status.idle": "2022-03-25T16:23:38.591529Z",
     "shell.execute_reply": "2022-03-25T16:23:38.591125Z",
     "shell.execute_reply.started": "2022-03-25T15:07:29.718110Z"
    },
    "papermill": {
     "duration": 0.05761,
     "end_time": "2022-03-25T16:23:38.591636",
     "exception": false,
     "start_time": "2022-03-25T16:23:38.534026",
     "status": "completed"
    },
    "tags": []
   },
   "outputs": [],
   "source": [
    "stop.add('co')\n",
    "stop.add('http')"
   ]
  },
  {
   "cell_type": "markdown",
   "id": "92bebf2c",
   "metadata": {
    "papermill": {
     "duration": 0.050924,
     "end_time": "2022-03-25T16:23:38.693653",
     "exception": false,
     "start_time": "2022-03-25T16:23:38.642729",
     "status": "completed"
    },
    "tags": []
   },
   "source": [
    "Now, we can remove the stopwords from our dataset and check again about new topwords appeared in our non-disaster and disaster tweets dataset"
   ]
  },
  {
   "cell_type": "code",
   "execution_count": 10,
   "id": "8231a2b9",
   "metadata": {
    "execution": {
     "iopub.execute_input": "2022-03-25T16:23:38.806347Z",
     "iopub.status.busy": "2022-03-25T16:23:38.805510Z",
     "iopub.status.idle": "2022-03-25T16:23:39.843620Z",
     "shell.execute_reply": "2022-03-25T16:23:39.844096Z",
     "shell.execute_reply.started": "2022-03-25T15:07:29.725532Z"
    },
    "papermill": {
     "duration": 1.099137,
     "end_time": "2022-03-25T16:23:39.844243",
     "exception": false,
     "start_time": "2022-03-25T16:23:38.745106",
     "status": "completed"
    },
    "tags": []
   },
   "outputs": [
    {
     "data": {
      "image/png": "[encoded data removed]",
      "text/plain": [
       "<Figure size 1080x720 with 1 Axes>"
      ]
     },
     "metadata": {
      "needs_background": "light"
     },
     "output_type": "display_data"
    },
    {
     "data": {
      "image/png": "[encoded data removed]",
      "text/plain": [
       "<Figure size 1080x720 with 1 Axes>"
      ]
     },
     "metadata": {
      "needs_background": "light"
     },
     "output_type": "display_data"
    }
   ],
   "source": [
    "# First remove common stop words\n",
    "def get_top_n_words_without_stopwords(corpus, n=None, figsize = [15, 10], title = None):\n",
    "    vec = CountVectorizer().fit(corpus)\n",
    "    bag_of_words = vec.transform(corpus)\n",
    "    sum_words = bag_of_words.sum(axis = 0)\n",
    "    words_freq = [(word, sum_words[0, idx]) for word, idx in vec.vocabulary_.items() if (word not in stop)]\n",
    "    words_freq = sorted(words_freq, key = lambda x: x[1], reverse=True)\n",
    "    # Create a bar chart to show the top freqs words\n",
    "    words = []\n",
    "    freqs = []\n",
    "    for word, freq in words_freq[:n]:\n",
    "        words.append(word)\n",
    "        freqs.append(freq)\n",
    "    plt.figure(figsize = figsize)\n",
    "    plt.bar(words, freqs, width = 0.8)\n",
    "    plt.title('Top {} Words in {} Tweets Before Removeing Stopwords'.format(n, title))\n",
    "    plt.xlabel(\"Top Words\")\n",
    "    plt.ylabel(\"NO. of times it appeard\")\n",
    "    plt.show()\n",
    "    return words_freq\n",
    "# create bar chart to show the top 20 words in non_disaster tweets\n",
    "non_disaster_tweets = train_df[train_df['target']==0]['text']\n",
    "topwords_nondisaster = get_top_n_words_without_stopwords(non_disaster_tweets, n=20, title = 'Non-disaster')\n",
    "\n",
    "\n",
    "# create bar chart to show the top 20 words in disaster tweets\n",
    "disaster_tweets = train_df[train_df['target']==1]['text']\n",
    "topwords_disaster = get_top_n_words_without_stopwords(disaster_tweets, n=20, title = 'disaster')"
   ]
  },
  {
   "cell_type": "markdown",
   "id": "b4a8a409",
   "metadata": {
    "papermill": {
     "duration": 0.056462,
     "end_time": "2022-03-25T16:23:39.955005",
     "exception": false,
     "start_time": "2022-03-25T16:23:39.898543",
     "status": "completed"
    },
    "tags": []
   },
   "source": [
    "If we want, we can add more stopwords to our cleaning process, such as **like**, **https** and **û_**. But I think we are at a good starting point! "
   ]
  },
  {
   "cell_type": "markdown",
   "id": "e1856993",
   "metadata": {
    "papermill": {
     "duration": 0.056561,
     "end_time": "2022-03-25T16:23:40.068795",
     "exception": false,
     "start_time": "2022-03-25T16:23:40.012234",
     "status": "completed"
    },
    "tags": []
   },
   "source": [
    "### Lets check whether our non-disaster and disaster tweets have similar amount of puntuations and numbers."
   ]
  },
  {
   "cell_type": "code",
   "execution_count": 11,
   "id": "9169733e",
   "metadata": {
    "execution": {
     "iopub.execute_input": "2022-03-25T16:23:40.188127Z",
     "iopub.status.busy": "2022-03-25T16:23:40.187178Z",
     "iopub.status.idle": "2022-03-25T16:23:40.188937Z",
     "shell.execute_reply": "2022-03-25T16:23:40.189463Z",
     "shell.execute_reply.started": "2022-03-25T15:07:30.770157Z"
    },
    "papermill": {
     "duration": 0.064775,
     "end_time": "2022-03-25T16:23:40.189597",
     "exception": false,
     "start_time": "2022-03-25T16:23:40.124822",
     "status": "completed"
    },
    "tags": []
   },
   "outputs": [],
   "source": [
    "## create corpus from the training dataset\n",
    "def create_corpus(target):\n",
    "    corpus = []\n",
    "    for x in train_df[train_df['target'] == target]['text'].str.split():\n",
    "        for i in x:\n",
    "            corpus.append(i)\n",
    "    return corpus"
   ]
  },
  {
   "cell_type": "code",
   "execution_count": 12,
   "id": "5587811d",
   "metadata": {
    "execution": {
     "iopub.execute_input": "2022-03-25T16:23:40.313770Z",
     "iopub.status.busy": "2022-03-25T16:23:40.312874Z",
     "iopub.status.idle": "2022-03-25T16:23:40.316319Z",
     "shell.execute_reply": "2022-03-25T16:23:40.315830Z",
     "shell.execute_reply.started": "2022-03-25T15:07:30.778315Z"
    },
    "papermill": {
     "duration": 0.070016,
     "end_time": "2022-03-25T16:23:40.316443",
     "exception": false,
     "start_time": "2022-03-25T16:23:40.246427",
     "status": "completed"
    },
    "tags": []
   },
   "outputs": [],
   "source": [
    "def create_barplot(dic1, dic2, figsize = [8,5], title = None):\n",
    "    # sort the dictionary by the values and create two lists for keys and values\n",
    "    dic1 = {k: v for k, v in sorted(dic1.items(), key=lambda item:item[1])}\n",
    "    keys1 = []\n",
    "    values1 = []\n",
    "    keys2 = []\n",
    "    values2 = []\n",
    "    for key1, value1 in dic1.items():\n",
    "        keys1.append(key1)\n",
    "        values1.append(value1)\n",
    "        keys2.append(key1)\n",
    "        values2.append(dic2[key1])\n",
    "    \n",
    "    # create bar plot \n",
    "    X_axis = np.arange(len(keys1))\n",
    "\n",
    "    fig = plt.figure(figsize = figsize)\n",
    "    plt.bar(X_axis - 0.2, values1, 0.4, label = 'non-disaster')\n",
    "    plt.bar(X_axis + 0.2, values2, 0.4, label = 'disaster')\n",
    "    plt.xticks(X_axis, keys1)\n",
    "    plt.legend()\n",
    "    plt.title('Bar plot for {}'.format(title))\n",
    "    plt.xlabel(title)\n",
    "    plt.ylabel('No. of times it appeared')\n",
    "    plt.show()"
   ]
  },
  {
   "cell_type": "markdown",
   "id": "678ea1d6",
   "metadata": {
    "papermill": {
     "duration": 0.054113,
     "end_time": "2022-03-25T16:23:40.425346",
     "exception": false,
     "start_time": "2022-03-25T16:23:40.371233",
     "status": "completed"
    },
    "tags": []
   },
   "source": [
    "**First, check the non-disaster tweets, we will create two bar plots to show the frequency of punctuations in the tweets**"
   ]
  },
  {
   "cell_type": "code",
   "execution_count": 13,
   "id": "db6879bd",
   "metadata": {
    "execution": {
     "iopub.execute_input": "2022-03-25T16:23:40.537759Z",
     "iopub.status.busy": "2022-03-25T16:23:40.536998Z",
     "iopub.status.idle": "2022-03-25T16:23:40.875562Z",
     "shell.execute_reply": "2022-03-25T16:23:40.874979Z",
     "shell.execute_reply.started": "2022-03-25T15:07:30.794786Z"
    },
    "papermill": {
     "duration": 0.397337,
     "end_time": "2022-03-25T16:23:40.875694",
     "exception": false,
     "start_time": "2022-03-25T16:23:40.478357",
     "status": "completed"
    },
    "tags": []
   },
   "outputs": [
    {
     "data": {
      "image/png": "[encoded data removed]",
      "text/plain": [
       "<Figure size 576x360 with 1 Axes>"
      ]
     },
     "metadata": {
      "needs_background": "light"
     },
     "output_type": "display_data"
    }
   ],
   "source": [
    "# Note to self: we use collection.defaultdict function to create the dictionary\n",
    "# If we use regular dict, we nee to make sure the key already exists in the dict\n",
    "punc = string.punctuation\n",
    "## first, lets check non-disaster tweets\n",
    "corpus0 = create_corpus(0)\n",
    "punc_dict0 = defaultdict(int)\n",
    "for i in corpus0:\n",
    "    if i in punc:\n",
    "        punc_dict0[i] += 1\n",
    "\n",
    "corpus1 = create_corpus(1)\n",
    "punc_dict1 = defaultdict(int)\n",
    "\n",
    "for i in corpus1:\n",
    "    if i in punc:\n",
    "        punc_dict1[i] += 1\n",
    "\n",
    "create_barplot(punc_dict0, punc_dict1, title = 'punctuation')"
   ]
  },
  {
   "cell_type": "markdown",
   "id": "8efdf926",
   "metadata": {
    "papermill": {
     "duration": 0.054055,
     "end_time": "2022-03-25T16:23:40.983903",
     "exception": false,
     "start_time": "2022-03-25T16:23:40.929848",
     "status": "completed"
    },
    "tags": []
   },
   "source": [
    "In the bar chart, I cannot see any sign that any punctuation will help us to differentiate non-disaster and disaster tweets. I will remove the punctuation in our datasets in the preprocessing steps. \n",
    "\n",
    "**Now, lets check the usage of numbers in two different tweets.**"
   ]
  },
  {
   "cell_type": "code",
   "execution_count": 14,
   "id": "16b81f26",
   "metadata": {
    "execution": {
     "iopub.execute_input": "2022-03-25T16:23:41.100277Z",
     "iopub.status.busy": "2022-03-25T16:23:41.099463Z",
     "iopub.status.idle": "2022-03-25T16:23:41.326143Z",
     "shell.execute_reply": "2022-03-25T16:23:41.325644Z",
     "shell.execute_reply.started": "2022-03-25T15:07:31.212931Z"
    },
    "papermill": {
     "duration": 0.288085,
     "end_time": "2022-03-25T16:23:41.326271",
     "exception": false,
     "start_time": "2022-03-25T16:23:41.038186",
     "status": "completed"
    },
    "tags": []
   },
   "outputs": [
    {
     "data": {
      "image/png": "[encoded data removed]",
      "text/plain": [
       "<Figure size 432x288 with 1 Axes>"
      ]
     },
     "metadata": {
      "needs_background": "light"
     },
     "output_type": "display_data"
    }
   ],
   "source": [
    "nums = string.digits\n",
    "## count NO. of numbers appeared in a tweet of a dataset\n",
    "def countnum(target):\n",
    "    tweets = train_df[train_df['target']==target]['text'].values\n",
    "    counts = []\n",
    "    for i in range(tweets.shape[0]):\n",
    "        count = 0\n",
    "        tweet_words = tweets[i].split() # a list that contains all words in a tweet\n",
    "        for word in tweet_words:\n",
    "            if word in nums:\n",
    "                count += 1\n",
    "        counts.append(count)\n",
    "    return counts\n",
    "count0 = countnum(0)\n",
    "count1 = countnum(1)\n",
    "## create histogram to show the number usages in non-disaster and disaster tweets datasets\n",
    "plt.figure()\n",
    "plt.hist([count0, count1], 4, label = ['non-disaster tweets', 'disaster tweets'])\n",
    "plt.title('Number usages in non-disaster and disaster tweets')\n",
    "plt.legend()\n",
    "plt.show()"
   ]
  },
  {
   "cell_type": "markdown",
   "id": "093db765",
   "metadata": {
    "papermill": {
     "duration": 0.055121,
     "end_time": "2022-03-25T16:23:41.436821",
     "exception": false,
     "start_time": "2022-03-25T16:23:41.381700",
     "status": "completed"
    },
    "tags": []
   },
   "source": [
    "As we can see from the above histogram, non-disaster tweets tend to use numbers more in their sentences. In my opinion, the number could be considered as a good features to keep to seperate non-disaster and disaster tweets."
   ]
  },
  {
   "cell_type": "markdown",
   "id": "0002ba92",
   "metadata": {
    "papermill": {
     "duration": 0.057537,
     "end_time": "2022-03-25T16:23:41.549388",
     "exception": false,
     "start_time": "2022-03-25T16:23:41.491851",
     "status": "completed"
    },
    "tags": []
   },
   "source": [
    "## Preprocessing the datasets for model training\n",
    "\n",
    "In this notebook, I cleaned the text dataset by lowering letter case, removing stopwords, the urls, html tages, emoji, and punctuations. \n",
    "\n",
    "For preprocess step, we will convert the text to vectors, and create our embedding layer based on pre trained package **Glove**. "
   ]
  },
  {
   "cell_type": "code",
   "execution_count": 15,
   "id": "fb1af33a",
   "metadata": {
    "execution": {
     "iopub.execute_input": "2022-03-25T16:23:41.664369Z",
     "iopub.status.busy": "2022-03-25T16:23:41.663784Z",
     "iopub.status.idle": "2022-03-25T16:23:41.670385Z",
     "shell.execute_reply": "2022-03-25T16:23:41.670822Z",
     "shell.execute_reply.started": "2022-03-25T15:07:31.495789Z"
    },
    "papermill": {
     "duration": 0.066704,
     "end_time": "2022-03-25T16:23:41.670953",
     "exception": false,
     "start_time": "2022-03-25T16:23:41.604249",
     "status": "completed"
    },
    "tags": []
   },
   "outputs": [
    {
     "data": {
      "text/plain": [
       "(10876, 5)"
      ]
     },
     "execution_count": 15,
     "metadata": {},
     "output_type": "execute_result"
    }
   ],
   "source": [
    "## First, concat training and testing dataframe, we want to have the same preprocess on our messages for both datasets\n",
    "df = pd.concat([train_df, test_df])\n",
    "df.shape"
   ]
  },
  {
   "cell_type": "markdown",
   "id": "5e7dad1f",
   "metadata": {
    "papermill": {
     "duration": 0.054912,
     "end_time": "2022-03-25T16:23:41.781216",
     "exception": false,
     "start_time": "2022-03-25T16:23:41.726304",
     "status": "completed"
    },
    "tags": []
   },
   "source": [
    "**Create some sub functions to our preprocess/cleaning steps**"
   ]
  },
  {
   "cell_type": "code",
   "execution_count": 16,
   "id": "29dac470",
   "metadata": {
    "execution": {
     "iopub.execute_input": "2022-03-25T16:23:41.898738Z",
     "iopub.status.busy": "2022-03-25T16:23:41.897927Z",
     "iopub.status.idle": "2022-03-25T16:23:41.899941Z",
     "shell.execute_reply": "2022-03-25T16:23:41.900420Z",
     "shell.execute_reply.started": "2022-03-25T15:07:31.513578Z"
    },
    "papermill": {
     "duration": 0.063841,
     "end_time": "2022-03-25T16:23:41.900549",
     "exception": false,
     "start_time": "2022-03-25T16:23:41.836708",
     "status": "completed"
    },
    "tags": []
   },
   "outputs": [],
   "source": [
    "# remove urls\n",
    "def remove_url(text):\n",
    "    url = re.compile(r'https?://\\S+|www\\.\\S+')\n",
    "    return url.sub(r'', text)\n",
    "\n",
    "# remove HTML tags\n",
    "def remove_html(text):\n",
    "    html = re.compile(r'<.*?>')\n",
    "    return html.sub(r'', text)\n",
    "# remove emojis\n",
    "# Reference : https://gist.github.com/slowkow/7a7f61f495e3dbb7e3d767f97bd7304b\n",
    "def remove_emoji(text):\n",
    "    emoji_pattern = re.compile(\"[\"\n",
    "                           u\"\\U0001F600-\\U0001F64F\"  # emoticons\n",
    "                           u\"\\U0001F300-\\U0001F5FF\"  # symbols & pictographs\n",
    "                           u\"\\U0001F680-\\U0001F6FF\"  # transport & map symbols\n",
    "                           u\"\\U0001F1E0-\\U0001F1FF\"  # flags (iOS)\n",
    "                           u\"\\U00002702-\\U000027B0\"\n",
    "                           u\"\\U000024C2-\\U0001F251\"\n",
    "                           \"]+\", flags=re.UNICODE)\n",
    "    return emoji_pattern.sub(r'', text)\n",
    "\n",
    "# remove punctuations\n",
    "def remove_punct(text):\n",
    "    table = str.maketrans('','',string.punctuation)\n",
    "    return text.translate(table)"
   ]
  },
  {
   "cell_type": "markdown",
   "id": "358f05c8",
   "metadata": {
    "papermill": {
     "duration": 0.054841,
     "end_time": "2022-03-25T16:23:42.010899",
     "exception": false,
     "start_time": "2022-03-25T16:23:41.956058",
     "status": "completed"
    },
    "tags": []
   },
   "source": [
    "**We can consider to have spell checker for our tweets data, but note that the spell checker code would be time consuming**"
   ]
  },
  {
   "cell_type": "code",
   "execution_count": 17,
   "id": "502348bd",
   "metadata": {
    "execution": {
     "iopub.execute_input": "2022-03-25T16:23:42.128561Z",
     "iopub.status.busy": "2022-03-25T16:23:42.128003Z",
     "iopub.status.idle": "2022-03-25T16:23:52.473963Z",
     "shell.execute_reply": "2022-03-25T16:23:52.473459Z",
     "shell.execute_reply.started": "2022-03-25T15:07:32.935989Z"
    },
    "papermill": {
     "duration": 10.407695,
     "end_time": "2022-03-25T16:23:52.474121",
     "exception": false,
     "start_time": "2022-03-25T16:23:42.066426",
     "status": "completed"
    },
    "tags": []
   },
   "outputs": [
    {
     "name": "stdout",
     "output_type": "stream",
     "text": [
      "Collecting pyspellchecker\r\n",
      "  Downloading pyspellchecker-0.6.3-py3-none-any.whl (2.7 MB)\r\n",
      "     |████████████████████████████████| 2.7 MB 514 kB/s            \r\n",
      "\u001b[?25hInstalling collected packages: pyspellchecker\r\n",
      "Successfully installed pyspellchecker-0.6.3\r\n",
      "\u001b[33mWARNING: Running pip as the 'root' user can result in broken permissions and conflicting behaviour with the system package manager. It is recommended to use a virtual environment instead: https://pip.pypa.io/warnings/venv\u001b[0m\r\n"
     ]
    }
   ],
   "source": [
    "## correct spelling using pyspellchecker\n",
    "!pip install pyspellchecker\n",
    "from spellchecker import SpellChecker\n",
    "def correct_spellings(text):\n",
    "    corrected_text = []\n",
    "    misspelled_words = SpellChecker().unknown(text.split())\n",
    "    for word in text.split():\n",
    "        if word in misspelled_words:\n",
    "            corrected_text.append(SpellChecker().correction(word))\n",
    "        else:\n",
    "            corrected_text.append(word)\n",
    "    return \" \".join(corrected_text)\n",
    "text = \"corect me plese\""
   ]
  },
  {
   "cell_type": "code",
   "execution_count": 18,
   "id": "d1f2a148",
   "metadata": {
    "execution": {
     "iopub.execute_input": "2022-03-25T16:23:52.605010Z",
     "iopub.status.busy": "2022-03-25T16:23:52.604261Z",
     "iopub.status.idle": "2022-03-25T16:23:52.606657Z",
     "shell.execute_reply": "2022-03-25T16:23:52.606246Z",
     "shell.execute_reply.started": "2022-03-25T15:07:44.374264Z"
    },
    "papermill": {
     "duration": 0.071144,
     "end_time": "2022-03-25T16:23:52.606768",
     "exception": false,
     "start_time": "2022-03-25T16:23:52.535624",
     "status": "completed"
    },
    "tags": []
   },
   "outputs": [],
   "source": [
    "## Use this preprocessing function to decide what cleaning steps we want \n",
    "def preprocessing(text):\n",
    "    text = remove_url(text)\n",
    "    text = remove_html(text)\n",
    "    text = remove_emoji(text)\n",
    "    text = remove_punct(text)\n",
    "    return text"
   ]
  },
  {
   "cell_type": "code",
   "execution_count": 19,
   "id": "ba43efc7",
   "metadata": {
    "execution": {
     "iopub.execute_input": "2022-03-25T16:23:52.733334Z",
     "iopub.status.busy": "2022-03-25T16:23:52.732589Z",
     "iopub.status.idle": "2022-03-25T16:23:52.920536Z",
     "shell.execute_reply": "2022-03-25T16:23:52.920002Z",
     "shell.execute_reply.started": "2022-03-25T15:07:44.381854Z"
    },
    "papermill": {
     "duration": 0.253282,
     "end_time": "2022-03-25T16:23:52.920660",
     "exception": false,
     "start_time": "2022-03-25T16:23:52.667378",
     "status": "completed"
    },
    "tags": []
   },
   "outputs": [],
   "source": [
    "# applying the cleaning process for our text data\n",
    "df['text'] = df['text'].apply(lambda x: preprocessing(x))"
   ]
  },
  {
   "cell_type": "code",
   "execution_count": 20,
   "id": "672dfc6c",
   "metadata": {
    "execution": {
     "iopub.execute_input": "2022-03-25T16:23:53.046502Z",
     "iopub.status.busy": "2022-03-25T16:23:53.045765Z",
     "iopub.status.idle": "2022-03-25T16:23:53.048321Z",
     "shell.execute_reply": "2022-03-25T16:23:53.047895Z",
     "shell.execute_reply.started": "2022-03-25T15:07:44.623415Z"
    },
    "papermill": {
     "duration": 0.066111,
     "end_time": "2022-03-25T16:23:53.048445",
     "exception": false,
     "start_time": "2022-03-25T16:23:52.982334",
     "status": "completed"
    },
    "tags": []
   },
   "outputs": [],
   "source": [
    "# we can decide to run this code or not based on our time line\n",
    "# df['text'] = df['text'].apply(lambda x: correct_spellings(x))"
   ]
  },
  {
   "cell_type": "markdown",
   "id": "4ab37aea",
   "metadata": {
    "papermill": {
     "duration": 0.063337,
     "end_time": "2022-03-25T16:23:53.174205",
     "exception": false,
     "start_time": "2022-03-25T16:23:53.110868",
     "status": "completed"
    },
    "tags": []
   },
   "source": [
    "Lets check out the output after we preprocessed our text datasets"
   ]
  },
  {
   "cell_type": "code",
   "execution_count": 21,
   "id": "22984ec4",
   "metadata": {
    "execution": {
     "iopub.execute_input": "2022-03-25T16:23:53.309501Z",
     "iopub.status.busy": "2022-03-25T16:23:53.308711Z",
     "iopub.status.idle": "2022-03-25T16:23:53.311636Z",
     "shell.execute_reply": "2022-03-25T16:23:53.312086Z",
     "shell.execute_reply.started": "2022-03-25T15:07:44.629868Z"
    },
    "papermill": {
     "duration": 0.073479,
     "end_time": "2022-03-25T16:23:53.312233",
     "exception": false,
     "start_time": "2022-03-25T16:23:53.238754",
     "status": "completed"
    },
    "tags": []
   },
   "outputs": [
    {
     "data": {
      "text/plain": [
       "0       Our Deeds are the Reason of this earthquake Ma...\n",
       "1                   Forest fire near La Ronge Sask Canada\n",
       "2       All residents asked to shelter in place are be...\n",
       "3       13000 people receive wildfires evacuation orde...\n",
       "4       Just got sent this photo from Ruby Alaska as s...\n",
       "                              ...                        \n",
       "3258    EARTHQUAKE SAFETY LOS ANGELES ÛÒ SAFETY FASTE...\n",
       "3259    Storm in RI worse than last hurricane My citya...\n",
       "3260                    Green Line derailment in Chicago \n",
       "3261            MEG issues Hazardous Weather Outlook HWO \n",
       "3262    CityofCalgary has activated its Municipal Emer...\n",
       "Name: text, Length: 10876, dtype: object"
      ]
     },
     "execution_count": 21,
     "metadata": {},
     "output_type": "execute_result"
    }
   ],
   "source": [
    "df['text']"
   ]
  },
  {
   "cell_type": "markdown",
   "id": "79fddd43",
   "metadata": {
    "papermill": {
     "duration": 0.06102,
     "end_time": "2022-03-25T16:23:53.435087",
     "exception": false,
     "start_time": "2022-03-25T16:23:53.374067",
     "status": "completed"
    },
    "tags": []
   },
   "source": [
    "Not so bad! We noticed that we have donw things that we want to complish in our data cleaning steps.\n",
    "\n",
    "**Coming next, we need to convert our corpus to vectors, so we can use numerical values to represent every tweets.**"
   ]
  },
  {
   "cell_type": "code",
   "execution_count": 22,
   "id": "ccad1e62",
   "metadata": {
    "execution": {
     "iopub.execute_input": "2022-03-25T16:23:53.575776Z",
     "iopub.status.busy": "2022-03-25T16:23:53.574806Z",
     "iopub.status.idle": "2022-03-25T16:23:53.577264Z",
     "shell.execute_reply": "2022-03-25T16:23:53.576756Z",
     "shell.execute_reply.started": "2022-03-25T15:08:22.471594Z"
    },
    "papermill": {
     "duration": 0.08147,
     "end_time": "2022-03-25T16:23:53.577393",
     "exception": false,
     "start_time": "2022-03-25T16:23:53.495923",
     "status": "completed"
    },
    "tags": []
   },
   "outputs": [],
   "source": [
    "# stop = set(stopwords.words('english'))\n",
    "# ## create corpus from the dataframe\n",
    "# def create_corpus(df):\n",
    "#     corpus = []\n",
    "#     for tweet in df['text']:\n",
    "#         for word in word_tokenize(tweet):\n",
    "#             if word not in stop:\n",
    "#                 corpus.append(word.lower())\n",
    "#     return corpus"
   ]
  },
  {
   "cell_type": "code",
   "execution_count": 23,
   "id": "c6ee0663",
   "metadata": {
    "execution": {
     "iopub.execute_input": "2022-03-25T16:23:53.804304Z",
     "iopub.status.busy": "2022-03-25T16:23:53.803752Z",
     "iopub.status.idle": "2022-03-25T16:23:53.808584Z",
     "shell.execute_reply": "2022-03-25T16:23:53.809012Z",
     "shell.execute_reply.started": "2022-03-25T15:07:44.651736Z"
    },
    "papermill": {
     "duration": 0.121001,
     "end_time": "2022-03-25T16:23:53.809210",
     "exception": false,
     "start_time": "2022-03-25T16:23:53.688209",
     "status": "completed"
    },
    "tags": []
   },
   "outputs": [],
   "source": [
    "stop = set(stopwords.words('english'))\n",
    "def create_corpus(df):\n",
    "    corpus = []\n",
    "    for tweet in df['text']:\n",
    "        words = [word.lower() for word in word_tokenize(tweet) if ((word.isalpha() ==1) & (word not in stop))]\n",
    "        corpus.append(words)\n",
    "    return corpus"
   ]
  },
  {
   "cell_type": "code",
   "execution_count": 24,
   "id": "5004db04",
   "metadata": {
    "execution": {
     "iopub.execute_input": "2022-03-25T16:23:54.014493Z",
     "iopub.status.busy": "2022-03-25T16:23:54.013898Z",
     "iopub.status.idle": "2022-03-25T16:23:56.046475Z",
     "shell.execute_reply": "2022-03-25T16:23:56.045657Z",
     "shell.execute_reply.started": "2022-03-25T15:08:25.551450Z"
    },
    "papermill": {
     "duration": 2.13717,
     "end_time": "2022-03-25T16:23:56.046608",
     "exception": false,
     "start_time": "2022-03-25T16:23:53.909438",
     "status": "completed"
    },
    "tags": []
   },
   "outputs": [
    {
     "data": {
      "text/plain": [
       "10876"
      ]
     },
     "execution_count": 24,
     "metadata": {},
     "output_type": "execute_result"
    }
   ],
   "source": [
    "corpus = create_corpus(df)\n",
    "len(corpus)"
   ]
  },
  {
   "cell_type": "code",
   "execution_count": 25,
   "id": "38ebade4",
   "metadata": {
    "execution": {
     "iopub.execute_input": "2022-03-25T16:23:56.214066Z",
     "iopub.status.busy": "2022-03-25T16:23:56.198757Z",
     "iopub.status.idle": "2022-03-25T16:23:58.348495Z",
     "shell.execute_reply": "2022-03-25T16:23:58.348022Z",
     "shell.execute_reply.started": "2022-03-25T15:08:37.329493Z"
    },
    "papermill": {
     "duration": 2.238667,
     "end_time": "2022-03-25T16:23:58.348620",
     "exception": false,
     "start_time": "2022-03-25T16:23:56.109953",
     "status": "completed"
    },
    "tags": []
   },
   "outputs": [
    {
     "name": "stdout",
     "output_type": "stream",
     "text": [
      "20342\n"
     ]
    }
   ],
   "source": [
    "## since the maximum of number of words used in each tweet are less than 30, we will set maxlen to 50 to avoid truncat any tweets.\n",
    "corpus = create_corpus(df)\n",
    "maxlen = 50\n",
    "tokenizer_obj = Tokenizer()\n",
    "tokenizer_obj.fit_on_texts(corpus)\n",
    "sequences = tokenizer_obj.texts_to_sequences(corpus)\n",
    "tweet_pad = pad_sequences(sequences, maxlen = maxlen, truncating = 'post', padding = 'post')\n",
    "word_index = tokenizer_obj.word_index\n",
    "print(len(word_index))"
   ]
  },
  {
   "cell_type": "code",
   "execution_count": 26,
   "id": "8513967f",
   "metadata": {
    "execution": {
     "iopub.execute_input": "2022-03-25T16:23:58.480481Z",
     "iopub.status.busy": "2022-03-25T16:23:58.479703Z",
     "iopub.status.idle": "2022-03-25T16:23:58.481688Z",
     "shell.execute_reply": "2022-03-25T16:23:58.482114Z",
     "shell.execute_reply.started": "2022-03-25T15:08:44.683098Z"
    },
    "papermill": {
     "duration": 0.071631,
     "end_time": "2022-03-25T16:23:58.482244",
     "exception": false,
     "start_time": "2022-03-25T16:23:58.410613",
     "status": "completed"
    },
    "tags": []
   },
   "outputs": [],
   "source": [
    "def create_embedding(embedding_dimension, word_index = word_index):\n",
    "    # use this function to create embedding layer with given string: embedding dimension and tokenizers: word_index \n",
    "    # output is the embedding layer for the given embedding dimension\n",
    "    embedding_dict = {}\n",
    "    glove_filename = '../input/glove-global-vectors-for-word-representation/glove.6B.'+ embedding_dimension +'d.txt'\n",
    "    with open(glove_filename, 'r') as f:\n",
    "        for line in f:\n",
    "            values = line.split()\n",
    "            word = values[0]\n",
    "            vectors = np.asarray(values[1:], 'float32')\n",
    "            embedding_dict[word] = vectors\n",
    "    f.close()\n",
    "    \n",
    "    # create embedding matrix with pre trained glove file\n",
    "    num_words = len(word_index)+1\n",
    "    embedding_matrix = np.zeros((num_words, int(embedding_dimension)))\n",
    "    for word, i in tqdm(word_index.items()):\n",
    "        if i > num_words:\n",
    "            continue\n",
    "        emb_vec = embedding_dict.get(word)\n",
    "        if emb_vec is not None:\n",
    "            embedding_matrix[i] = emb_vec\n",
    "        embedding_layer = Embedding(num_words, int(embedding_dimension), embeddings_initializer = Constant(embedding_matrix), input_length = maxlen, trainable = False)\n",
    "    print('Embedding layer created!')\n",
    "    return embedding_layer"
   ]
  },
  {
   "cell_type": "code",
   "execution_count": 27,
   "id": "e2b4342d",
   "metadata": {
    "execution": {
     "iopub.execute_input": "2022-03-25T16:23:58.610482Z",
     "iopub.status.busy": "2022-03-25T16:23:58.609521Z",
     "iopub.status.idle": "2022-03-25T16:23:58.611510Z",
     "shell.execute_reply": "2022-03-25T16:23:58.612018Z",
     "shell.execute_reply.started": "2022-03-25T15:08:46.425426Z"
    },
    "papermill": {
     "duration": 0.068418,
     "end_time": "2022-03-25T16:23:58.612178",
     "exception": false,
     "start_time": "2022-03-25T16:23:58.543760",
     "status": "completed"
    },
    "tags": []
   },
   "outputs": [],
   "source": [
    "def create_lstm(num_neurons, bidir):\n",
    "    if bidir == True:\n",
    "        return Bidirectional(LSTM(num_neurons, dropout = 0.2, recurrent_dropout = 0.2))\n",
    "    else:\n",
    "        return LSTM(num_neurons, dropout = 0.2, recurrent_dropout = 0.2)"
   ]
  },
  {
   "cell_type": "code",
   "execution_count": 28,
   "id": "e90a5a31",
   "metadata": {
    "execution": {
     "iopub.execute_input": "2022-03-25T16:23:58.740454Z",
     "iopub.status.busy": "2022-03-25T16:23:58.737869Z",
     "iopub.status.idle": "2022-03-25T16:23:58.745810Z",
     "shell.execute_reply": "2022-03-25T16:23:58.746525Z",
     "shell.execute_reply.started": "2022-03-25T15:08:50.319158Z"
    },
    "papermill": {
     "duration": 0.073311,
     "end_time": "2022-03-25T16:23:58.746691",
     "exception": false,
     "start_time": "2022-03-25T16:23:58.673380",
     "status": "completed"
    },
    "tags": []
   },
   "outputs": [
    {
     "name": "stdout",
     "output_type": "stream",
     "text": [
      "(6851, 50)\n",
      "(762, 50)\n"
     ]
    }
   ],
   "source": [
    "# create training and validation datasets for our model training phrase\n",
    "train = tweet_pad[:train_df.shape[0]]\n",
    "test = tweet_pad[train_df.shape[0]:]\n",
    "test_size = 0.1\n",
    "train_X, val_X, train_y, val_y = train_test_split(train, train_df['target'].values, test_size = test_size)\n",
    "print(train_X.shape)\n",
    "print(val_X.shape)"
   ]
  },
  {
   "cell_type": "markdown",
   "id": "132e0ccc",
   "metadata": {
    "papermill": {
     "duration": 0.061878,
     "end_time": "2022-03-25T16:23:58.871199",
     "exception": false,
     "start_time": "2022-03-25T16:23:58.809321",
     "status": "completed"
    },
    "tags": []
   },
   "source": [
    "Time to build the models! (My favorite part😃!)"
   ]
  },
  {
   "cell_type": "markdown",
   "id": "36f1bc5a",
   "metadata": {
    "papermill": {
     "duration": 0.06193,
     "end_time": "2022-03-25T16:23:58.994996",
     "exception": false,
     "start_time": "2022-03-25T16:23:58.933066",
     "status": "completed"
    },
    "tags": []
   },
   "source": [
    "## Building pipeline for model comparision"
   ]
  },
  {
   "cell_type": "code",
   "execution_count": 29,
   "id": "4b37f38a",
   "metadata": {
    "execution": {
     "iopub.execute_input": "2022-03-25T16:23:59.124616Z",
     "iopub.status.busy": "2022-03-25T16:23:59.123776Z",
     "iopub.status.idle": "2022-03-25T16:23:59.126231Z",
     "shell.execute_reply": "2022-03-25T16:23:59.125797Z",
     "shell.execute_reply.started": "2022-03-25T15:08:55.198061Z"
    },
    "papermill": {
     "duration": 0.069608,
     "end_time": "2022-03-25T16:23:59.126369",
     "exception": false,
     "start_time": "2022-03-25T16:23:59.056761",
     "status": "completed"
    },
    "tags": []
   },
   "outputs": [],
   "source": [
    "def plot_graph(history, string):\n",
    "    plt.plot(history.history[string])\n",
    "    plt.plot(history.history['val_'+string])\n",
    "    plt.xlabel('Epochs')\n",
    "    plt.ylabel(string)\n",
    "    plt.legend([string, 'val_'+string])\n",
    "    plt.show()"
   ]
  },
  {
   "cell_type": "code",
   "execution_count": 30,
   "id": "d568a7d4",
   "metadata": {
    "execution": {
     "iopub.execute_input": "2022-03-25T16:23:59.259927Z",
     "iopub.status.busy": "2022-03-25T16:23:59.259132Z",
     "iopub.status.idle": "2022-03-25T16:23:59.261159Z",
     "shell.execute_reply": "2022-03-25T16:23:59.261543Z",
     "shell.execute_reply.started": "2022-03-25T15:08:55.596510Z"
    },
    "papermill": {
     "duration": 0.07069,
     "end_time": "2022-03-25T16:23:59.261676",
     "exception": false,
     "start_time": "2022-03-25T16:23:59.190986",
     "status": "completed"
    },
    "tags": []
   },
   "outputs": [],
   "source": [
    "## create submission file\n",
    "def sub_csv(model, model_num, test):\n",
    "    ## predict the test vectors\n",
    "    sample_submission = pd.read_csv(\"/kaggle/input/nlp-getting-started/sample_submission.csv\")\n",
    "    sample_submission[\"target\"] = [1 if i >=0.5 else 0 for i in model.predict(test)]\n",
    "    sample_submission.to_csv(\"submission{}.csv\".format(model_num), index = False)\n",
    "    print(\"# {} submission file created!\".format(model_num))"
   ]
  },
  {
   "cell_type": "code",
   "execution_count": 31,
   "id": "b4836f83",
   "metadata": {
    "execution": {
     "iopub.execute_input": "2022-03-25T16:23:59.394221Z",
     "iopub.status.busy": "2022-03-25T16:23:59.393459Z",
     "iopub.status.idle": "2022-03-25T16:23:59.395418Z",
     "shell.execute_reply": "2022-03-25T16:23:59.395818Z",
     "shell.execute_reply.started": "2022-03-25T15:08:56.547540Z"
    },
    "papermill": {
     "duration": 0.071486,
     "end_time": "2022-03-25T16:23:59.395940",
     "exception": false,
     "start_time": "2022-03-25T16:23:59.324454",
     "status": "completed"
    },
    "tags": []
   },
   "outputs": [],
   "source": [
    "def create_pipelines(verbose = 1):\n",
    "    # initialize different layers for the deep learning models:\n",
    "    # including: embedding layer; LSTM layer; Dense layer; \n",
    "    # Also include different optimizers: Adam; RMSprop\n",
    "    embedding_dimensions = ['200']\n",
    "    lstm_setups = [(64, True), (64, False)]\n",
    "    optimizers = [Adam(learning_rate = 1e-5), RMSprop(learning_rate = 1e-5)]\n",
    "    pipelines = []\n",
    "    for embedding_dimension in embedding_dimensions:\n",
    "        embedding_layer = create_embedding(embedding_dimension)\n",
    "        for lstm_setup in lstm_setups:\n",
    "            lstm_neuron = lstm_setup[0]\n",
    "            lstm_bidir = lstm_setup[1]\n",
    "            lstm_layer = create_lstm(lstm_neuron, lstm_bidir)\n",
    "            for i in range(len(optimizers)):\n",
    "                model_name = 'embed_dimension'+embedding_dimension+'_lstm (' + str(lstm_neuron)+', '+str(lstm_bidir) + ')_'\n",
    "                if i == 0:\n",
    "                    model_name += 'Adam'\n",
    "                else:\n",
    "                    model_name += 'RMSprop'\n",
    "                pipeline = ([embedding_layer, lstm_layer, optimizers[i]], model_name)\n",
    "                pipelines.append(pipeline)\n",
    "    return pipelines\n",
    "            \n",
    "    "
   ]
  },
  {
   "cell_type": "code",
   "execution_count": 32,
   "id": "2fa1f99f",
   "metadata": {
    "execution": {
     "iopub.execute_input": "2022-03-25T16:23:59.523500Z",
     "iopub.status.busy": "2022-03-25T16:23:59.522696Z",
     "iopub.status.idle": "2022-03-25T16:23:59.524609Z",
     "shell.execute_reply": "2022-03-25T16:23:59.525058Z",
     "shell.execute_reply.started": "2022-03-24T23:58:10.908797Z"
    },
    "papermill": {
     "duration": 0.067066,
     "end_time": "2022-03-25T16:23:59.525184",
     "exception": false,
     "start_time": "2022-03-25T16:23:59.458118",
     "status": "completed"
    },
    "tags": []
   },
   "outputs": [],
   "source": [
    "# pipelines = create_pipelines()"
   ]
  },
  {
   "cell_type": "code",
   "execution_count": 33,
   "id": "cbe999c3",
   "metadata": {
    "execution": {
     "iopub.execute_input": "2022-03-25T16:23:59.665798Z",
     "iopub.status.busy": "2022-03-25T16:23:59.664937Z",
     "iopub.status.idle": "2022-03-25T16:23:59.667358Z",
     "shell.execute_reply": "2022-03-25T16:23:59.666914Z",
     "shell.execute_reply.started": "2022-03-24T23:58:10.910269Z"
    },
    "papermill": {
     "duration": 0.069417,
     "end_time": "2022-03-25T16:23:59.667473",
     "exception": false,
     "start_time": "2022-03-25T16:23:59.598056",
     "status": "completed"
    },
    "tags": []
   },
   "outputs": [],
   "source": [
    "# len(pipelines)"
   ]
  },
  {
   "cell_type": "code",
   "execution_count": 34,
   "id": "5a107d0e",
   "metadata": {
    "execution": {
     "iopub.execute_input": "2022-03-25T16:23:59.796757Z",
     "iopub.status.busy": "2022-03-25T16:23:59.795915Z",
     "iopub.status.idle": "2022-03-25T16:23:59.798359Z",
     "shell.execute_reply": "2022-03-25T16:23:59.797919Z",
     "shell.execute_reply.started": "2022-03-24T23:58:10.911644Z"
    },
    "papermill": {
     "duration": 0.068403,
     "end_time": "2022-03-25T16:23:59.798477",
     "exception": false,
     "start_time": "2022-03-25T16:23:59.730074",
     "status": "completed"
    },
    "tags": []
   },
   "outputs": [],
   "source": [
    "# ## build deep learning model from the pipelines\n",
    "# for i in range(len(pipelines)):\n",
    "#     model_num = 'model'+str(i)\n",
    "#     pipeline = pipelines[i]\n",
    "#     embedding = pipeline[0][0]\n",
    "#     lstm = pipeline[0][1]\n",
    "#     optimizer = pipeline[0][2]\n",
    "#     model_name = pipeline[1]\n",
    "    \n",
    "#     ## create the model\n",
    "#     locals()[model_num] = tf.keras.Sequential()\n",
    "#     locals()[model_num].add(embedding)\n",
    "#     locals()[model_num].add(SpatialDropout1D(0.2))\n",
    "#     locals()[model_num].add(lstm)\n",
    "#     locals()[model_num].add(Dense(1, activation = 'sigmoid'))\n",
    "#     locals()[model_num].compile(loss = 'binary_crossentropy', optimizer = optimizer, metrics = ['accuracy'])"
   ]
  },
  {
   "cell_type": "markdown",
   "id": "867e4794",
   "metadata": {
    "papermill": {
     "duration": 0.061896,
     "end_time": "2022-03-25T16:23:59.922079",
     "exception": false,
     "start_time": "2022-03-25T16:23:59.860183",
     "status": "completed"
    },
    "tags": []
   },
   "source": [
    "## Choose what are good options for our model architecture by runing experiences with different models\n",
    "### Run the code in the below to train the total 4 models:\n",
    "* different LSTM layer (bidirection or not)\n",
    "* different optimizers (Adam or RMSprop). \n",
    "\n",
    "We skiped the following code in this notebook to reduce running time. I have previouly run the code and found the best performance is the model3.\n",
    "\n",
    "**We can add more models by changing embedding layer, Dense layer, etc. But remember that the more models are trained, the longer time it takes to run.**"
   ]
  },
  {
   "cell_type": "code",
   "execution_count": 35,
   "id": "b6710d51",
   "metadata": {
    "execution": {
     "iopub.execute_input": "2022-03-25T16:24:00.050566Z",
     "iopub.status.busy": "2022-03-25T16:24:00.049735Z",
     "iopub.status.idle": "2022-03-25T16:24:00.052241Z",
     "shell.execute_reply": "2022-03-25T16:24:00.051813Z",
     "shell.execute_reply.started": "2022-03-24T23:58:10.913478Z"
    },
    "papermill": {
     "duration": 0.06842,
     "end_time": "2022-03-25T16:24:00.052364",
     "exception": false,
     "start_time": "2022-03-25T16:23:59.983944",
     "status": "completed"
    },
    "tags": []
   },
   "outputs": [],
   "source": [
    "## training models with given data\n",
    "# num_epochs = 15\n",
    "# histories = []\n",
    "# for i in range(len(pipelines)):\n",
    "#     model = locals()['model'+str(i)]\n",
    "#     history = model.fit(train_X, train_y, epochs = num_epochs, validation_data = (val_X, val_y))\n",
    "#     histories.append(history)\n",
    "#     plot_graph(history, \"accuracy\")\n",
    "#     plot_graph(history, \"loss\")\n",
    "#     sub_csv(model, i,test)"
   ]
  },
  {
   "cell_type": "markdown",
   "id": "2364986d",
   "metadata": {
    "papermill": {
     "duration": 0.062073,
     "end_time": "2022-03-25T16:24:00.176726",
     "exception": false,
     "start_time": "2022-03-25T16:24:00.114653",
     "status": "completed"
    },
    "tags": []
   },
   "source": [
    "### Since we found that model3 has the best training performance, I will increase the number of epochs for my model3 training."
   ]
  },
  {
   "cell_type": "code",
   "execution_count": 36,
   "id": "4f91deaa",
   "metadata": {
    "execution": {
     "iopub.execute_input": "2022-03-25T16:24:00.306083Z",
     "iopub.status.busy": "2022-03-25T16:24:00.305292Z",
     "iopub.status.idle": "2022-03-25T16:24:00.307775Z",
     "shell.execute_reply": "2022-03-25T16:24:00.307278Z",
     "shell.execute_reply.started": "2022-03-24T23:58:10.915098Z"
    },
    "papermill": {
     "duration": 0.06885,
     "end_time": "2022-03-25T16:24:00.307881",
     "exception": false,
     "start_time": "2022-03-25T16:24:00.239031",
     "status": "completed"
    },
    "tags": []
   },
   "outputs": [],
   "source": [
    "# pipelines[3]"
   ]
  },
  {
   "cell_type": "code",
   "execution_count": 37,
   "id": "7164a4d4",
   "metadata": {
    "execution": {
     "iopub.execute_input": "2022-03-25T16:24:00.436460Z",
     "iopub.status.busy": "2022-03-25T16:24:00.435680Z",
     "iopub.status.idle": "2022-03-25T16:24:00.437950Z",
     "shell.execute_reply": "2022-03-25T16:24:00.437560Z",
     "shell.execute_reply.started": "2022-03-24T23:58:10.917081Z"
    },
    "papermill": {
     "duration": 0.067773,
     "end_time": "2022-03-25T16:24:00.438082",
     "exception": false,
     "start_time": "2022-03-25T16:24:00.370309",
     "status": "completed"
    },
    "tags": []
   },
   "outputs": [],
   "source": [
    "# model3.summary()"
   ]
  },
  {
   "cell_type": "code",
   "execution_count": 38,
   "id": "25fec83d",
   "metadata": {
    "execution": {
     "iopub.execute_input": "2022-03-25T16:24:00.566904Z",
     "iopub.status.busy": "2022-03-25T16:24:00.565335Z",
     "iopub.status.idle": "2022-03-25T16:24:00.567610Z",
     "shell.execute_reply": "2022-03-25T16:24:00.568012Z",
     "shell.execute_reply.started": "2022-03-24T23:58:10.918648Z"
    },
    "papermill": {
     "duration": 0.068434,
     "end_time": "2022-03-25T16:24:00.568166",
     "exception": false,
     "start_time": "2022-03-25T16:24:00.499732",
     "status": "completed"
    },
    "tags": []
   },
   "outputs": [],
   "source": [
    "# num_epochs = 70\n",
    "# history = model3.fit(train_X, train_y, epochs = num_epochs, validation_data = (val_X, val_y))\n",
    "# plot_graph(history, \"accuracy\")\n",
    "# plot_graph(history, \"loss\")\n",
    "# sub_csv(model3, 3,test)"
   ]
  },
  {
   "cell_type": "code",
   "execution_count": 39,
   "id": "ace1dee8",
   "metadata": {
    "execution": {
     "iopub.execute_input": "2022-03-25T16:24:00.697942Z",
     "iopub.status.busy": "2022-03-25T16:24:00.696898Z",
     "iopub.status.idle": "2022-03-25T16:24:38.344325Z",
     "shell.execute_reply": "2022-03-25T16:24:38.343527Z",
     "shell.execute_reply.started": "2022-03-25T15:09:03.960090Z"
    },
    "papermill": {
     "duration": 37.714413,
     "end_time": "2022-03-25T16:24:38.344503",
     "exception": false,
     "start_time": "2022-03-25T16:24:00.630090",
     "status": "completed"
    },
    "tags": []
   },
   "outputs": [
    {
     "name": "stderr",
     "output_type": "stream",
     "text": [
      "2022-03-25 16:24:00.757083: I tensorflow/stream_executor/cuda/cuda_gpu_executor.cc:937] successful NUMA node read from SysFS had negative value (-1), but there must be at least one NUMA node, so returning NUMA node zero\n",
      "2022-03-25 16:24:00.846602: I tensorflow/stream_executor/cuda/cuda_gpu_executor.cc:937] successful NUMA node read from SysFS had negative value (-1), but there must be at least one NUMA node, so returning NUMA node zero\n",
      "2022-03-25 16:24:00.847348: I tensorflow/stream_executor/cuda/cuda_gpu_executor.cc:937] successful NUMA node read from SysFS had negative value (-1), but there must be at least one NUMA node, so returning NUMA node zero\n",
      "2022-03-25 16:24:00.848580: I tensorflow/core/platform/cpu_feature_guard.cc:142] This TensorFlow binary is optimized with oneAPI Deep Neural Network Library (oneDNN) to use the following CPU instructions in performance-critical operations:  AVX2 AVX512F FMA\n",
      "To enable them in other operations, rebuild TensorFlow with the appropriate compiler flags.\n",
      "2022-03-25 16:24:00.849669: I tensorflow/stream_executor/cuda/cuda_gpu_executor.cc:937] successful NUMA node read from SysFS had negative value (-1), but there must be at least one NUMA node, so returning NUMA node zero\n",
      "2022-03-25 16:24:00.850336: I tensorflow/stream_executor/cuda/cuda_gpu_executor.cc:937] successful NUMA node read from SysFS had negative value (-1), but there must be at least one NUMA node, so returning NUMA node zero\n",
      "2022-03-25 16:24:00.850936: I tensorflow/stream_executor/cuda/cuda_gpu_executor.cc:937] successful NUMA node read from SysFS had negative value (-1), but there must be at least one NUMA node, so returning NUMA node zero\n",
      "2022-03-25 16:24:02.565950: I tensorflow/stream_executor/cuda/cuda_gpu_executor.cc:937] successful NUMA node read from SysFS had negative value (-1), but there must be at least one NUMA node, so returning NUMA node zero\n",
      "2022-03-25 16:24:02.566811: I tensorflow/stream_executor/cuda/cuda_gpu_executor.cc:937] successful NUMA node read from SysFS had negative value (-1), but there must be at least one NUMA node, so returning NUMA node zero\n",
      "2022-03-25 16:24:02.567602: I tensorflow/stream_executor/cuda/cuda_gpu_executor.cc:937] successful NUMA node read from SysFS had negative value (-1), but there must be at least one NUMA node, so returning NUMA node zero\n",
      "2022-03-25 16:24:02.568194: I tensorflow/core/common_runtime/gpu/gpu_device.cc:1510] Created device /job:localhost/replica:0/task:0/device:GPU:0 with 15403 MB memory:  -> device: 0, name: Tesla P100-PCIE-16GB, pci bus id: 0000:00:04.0, compute capability: 6.0\n",
      "100%|██████████| 20342/20342 [00:10<00:00, 1971.51it/s]\n"
     ]
    },
    {
     "name": "stdout",
     "output_type": "stream",
     "text": [
      "Embedding layer created!\n",
      "Model: \"sequential\"\n",
      "_________________________________________________________________\n",
      "Layer (type)                 Output Shape              Param #   \n",
      "=================================================================\n",
      "embedding_20341 (Embedding)  (None, 50, 200)           4068600   \n",
      "_________________________________________________________________\n",
      "spatial_dropout1d (SpatialDr (None, 50, 200)           0         \n",
      "_________________________________________________________________\n",
      "bidirectional (Bidirectional (None, 128)               135680    \n",
      "_________________________________________________________________\n",
      "dense (Dense)                (None, 1)                 129       \n",
      "=================================================================\n",
      "Total params: 4,204,409\n",
      "Trainable params: 135,809\n",
      "Non-trainable params: 4,068,600\n",
      "_________________________________________________________________\n"
     ]
    }
   ],
   "source": [
    "## try embedding dimension with 200D, and bidirectional lstm layer\n",
    "model = tf.keras.Sequential()\n",
    "model.add(create_embedding('200'))\n",
    "model.add(SpatialDropout1D(0.2))\n",
    "model.add(create_lstm(64, True))\n",
    "model.add(Dense(1, activation = 'sigmoid'))\n",
    "model.compile(loss = 'binary_crossentropy', optimizer = RMSprop(learning_rate = 1e-5), metrics = ['accuracy'])\n",
    "model.summary()"
   ]
  },
  {
   "cell_type": "code",
   "execution_count": 40,
   "id": "fe988965",
   "metadata": {
    "execution": {
     "iopub.execute_input": "2022-03-25T16:24:38.542739Z",
     "iopub.status.busy": "2022-03-25T16:24:38.542091Z",
     "iopub.status.idle": "2022-03-25T17:25:07.774942Z",
     "shell.execute_reply": "2022-03-25T17:25:07.775788Z",
     "shell.execute_reply.started": "2022-03-25T15:09:44.501491Z"
    },
    "papermill": {
     "duration": 3629.332522,
     "end_time": "2022-03-25T17:25:07.776069",
     "exception": false,
     "start_time": "2022-03-25T16:24:38.443547",
     "status": "completed"
    },
    "tags": []
   },
   "outputs": [
    {
     "name": "stderr",
     "output_type": "stream",
     "text": [
      "2022-03-25 16:24:38.588847: I tensorflow/compiler/mlir/mlir_graph_optimization_pass.cc:185] None of the MLIR Optimization Passes are enabled (registered 2)\n"
     ]
    },
    {
     "name": "stdout",
     "output_type": "stream",
     "text": [
      "Epoch 1/40\n",
      "215/215 [==============================] - 92s 404ms/step - loss: 0.6878 - accuracy: 0.5611 - val_loss: 0.6676 - val_accuracy: 0.6102\n",
      "Epoch 2/40\n",
      "215/215 [==============================] - 86s 399ms/step - loss: 0.6749 - accuracy: 0.5893 - val_loss: 0.6511 - val_accuracy: 0.6470\n",
      "Epoch 3/40\n",
      "215/215 [==============================] - 85s 396ms/step - loss: 0.6620 - accuracy: 0.6256 - val_loss: 0.6352 - val_accuracy: 0.6955\n",
      "Epoch 4/40\n",
      "215/215 [==============================] - 88s 406ms/step - loss: 0.6490 - accuracy: 0.6541 - val_loss: 0.6197 - val_accuracy: 0.7388\n",
      "Epoch 5/40\n",
      "215/215 [==============================] - 87s 402ms/step - loss: 0.6360 - accuracy: 0.6796 - val_loss: 0.6043 - val_accuracy: 0.7572\n",
      "Epoch 6/40\n",
      "215/215 [==============================] - 87s 404ms/step - loss: 0.6258 - accuracy: 0.6935 - val_loss: 0.5883 - val_accuracy: 0.7861\n",
      "Epoch 7/40\n",
      "215/215 [==============================] - 88s 411ms/step - loss: 0.6101 - accuracy: 0.7251 - val_loss: 0.5702 - val_accuracy: 0.7966\n",
      "Epoch 8/40\n",
      "215/215 [==============================] - 89s 412ms/step - loss: 0.5955 - accuracy: 0.7335 - val_loss: 0.5474 - val_accuracy: 0.7953\n",
      "Epoch 9/40\n",
      "215/215 [==============================] - 88s 409ms/step - loss: 0.5719 - accuracy: 0.7567 - val_loss: 0.5167 - val_accuracy: 0.7940\n",
      "Epoch 10/40\n",
      "215/215 [==============================] - 88s 408ms/step - loss: 0.5417 - accuracy: 0.7666 - val_loss: 0.4882 - val_accuracy: 0.7940\n",
      "Epoch 11/40\n",
      "215/215 [==============================] - 89s 414ms/step - loss: 0.5187 - accuracy: 0.7653 - val_loss: 0.4705 - val_accuracy: 0.7927\n",
      "Epoch 12/40\n",
      "215/215 [==============================] - 89s 413ms/step - loss: 0.5089 - accuracy: 0.7649 - val_loss: 0.4613 - val_accuracy: 0.7979\n",
      "Epoch 13/40\n",
      "215/215 [==============================] - 92s 427ms/step - loss: 0.5041 - accuracy: 0.7662 - val_loss: 0.4555 - val_accuracy: 0.8084\n",
      "Epoch 14/40\n",
      "215/215 [==============================] - 89s 415ms/step - loss: 0.4981 - accuracy: 0.7691 - val_loss: 0.4506 - val_accuracy: 0.8045\n",
      "Epoch 15/40\n",
      "215/215 [==============================] - 91s 423ms/step - loss: 0.4967 - accuracy: 0.7695 - val_loss: 0.4464 - val_accuracy: 0.8005\n",
      "Epoch 16/40\n",
      "215/215 [==============================] - 90s 417ms/step - loss: 0.4904 - accuracy: 0.7697 - val_loss: 0.4423 - val_accuracy: 0.8071\n",
      "Epoch 17/40\n",
      "215/215 [==============================] - 91s 425ms/step - loss: 0.4910 - accuracy: 0.7765 - val_loss: 0.4391 - val_accuracy: 0.8110\n",
      "Epoch 18/40\n",
      "215/215 [==============================] - 89s 416ms/step - loss: 0.4818 - accuracy: 0.7758 - val_loss: 0.4388 - val_accuracy: 0.8084\n",
      "Epoch 19/40\n",
      "215/215 [==============================] - 91s 423ms/step - loss: 0.4829 - accuracy: 0.7764 - val_loss: 0.4337 - val_accuracy: 0.8097\n",
      "Epoch 20/40\n",
      "215/215 [==============================] - 89s 417ms/step - loss: 0.4748 - accuracy: 0.7797 - val_loss: 0.4331 - val_accuracy: 0.8097\n",
      "Epoch 21/40\n",
      "215/215 [==============================] - 91s 421ms/step - loss: 0.4742 - accuracy: 0.7847 - val_loss: 0.4288 - val_accuracy: 0.8123\n",
      "Epoch 22/40\n",
      "215/215 [==============================] - 92s 427ms/step - loss: 0.4755 - accuracy: 0.7787 - val_loss: 0.4279 - val_accuracy: 0.8123\n",
      "Epoch 23/40\n",
      "215/215 [==============================] - 92s 426ms/step - loss: 0.4705 - accuracy: 0.7825 - val_loss: 0.4247 - val_accuracy: 0.8123\n",
      "Epoch 24/40\n",
      "215/215 [==============================] - 91s 424ms/step - loss: 0.4691 - accuracy: 0.7897 - val_loss: 0.4233 - val_accuracy: 0.8110\n",
      "Epoch 25/40\n",
      "215/215 [==============================] - 93s 435ms/step - loss: 0.4696 - accuracy: 0.7857 - val_loss: 0.4211 - val_accuracy: 0.8097\n",
      "Epoch 26/40\n",
      "215/215 [==============================] - 90s 419ms/step - loss: 0.4665 - accuracy: 0.7897 - val_loss: 0.4199 - val_accuracy: 0.8110\n",
      "Epoch 27/40\n",
      "215/215 [==============================] - 94s 436ms/step - loss: 0.4665 - accuracy: 0.7894 - val_loss: 0.4185 - val_accuracy: 0.8150\n",
      "Epoch 28/40\n",
      "215/215 [==============================] - 94s 436ms/step - loss: 0.4618 - accuracy: 0.7913 - val_loss: 0.4173 - val_accuracy: 0.8150\n",
      "Epoch 29/40\n",
      "215/215 [==============================] - 93s 430ms/step - loss: 0.4588 - accuracy: 0.7924 - val_loss: 0.4148 - val_accuracy: 0.8110\n",
      "Epoch 30/40\n",
      "215/215 [==============================] - 96s 444ms/step - loss: 0.4589 - accuracy: 0.7910 - val_loss: 0.4154 - val_accuracy: 0.8189\n",
      "Epoch 31/40\n",
      "215/215 [==============================] - 91s 425ms/step - loss: 0.4586 - accuracy: 0.7898 - val_loss: 0.4132 - val_accuracy: 0.8189\n",
      "Epoch 32/40\n",
      "215/215 [==============================] - 96s 447ms/step - loss: 0.4571 - accuracy: 0.7920 - val_loss: 0.4136 - val_accuracy: 0.8202\n",
      "Epoch 33/40\n",
      "215/215 [==============================] - 92s 428ms/step - loss: 0.4577 - accuracy: 0.7959 - val_loss: 0.4110 - val_accuracy: 0.8202\n",
      "Epoch 34/40\n",
      "215/215 [==============================] - 92s 429ms/step - loss: 0.4567 - accuracy: 0.7951 - val_loss: 0.4093 - val_accuracy: 0.8202\n",
      "Epoch 35/40\n",
      "215/215 [==============================] - 92s 430ms/step - loss: 0.4540 - accuracy: 0.7971 - val_loss: 0.4088 - val_accuracy: 0.8202\n",
      "Epoch 36/40\n",
      "215/215 [==============================] - 89s 413ms/step - loss: 0.4524 - accuracy: 0.7926 - val_loss: 0.4074 - val_accuracy: 0.8215\n",
      "Epoch 37/40\n",
      "215/215 [==============================] - 90s 417ms/step - loss: 0.4524 - accuracy: 0.7933 - val_loss: 0.4075 - val_accuracy: 0.8255\n",
      "Epoch 38/40\n",
      "215/215 [==============================] - 93s 433ms/step - loss: 0.4528 - accuracy: 0.7954 - val_loss: 0.4052 - val_accuracy: 0.8268\n",
      "Epoch 39/40\n",
      "215/215 [==============================] - 90s 420ms/step - loss: 0.4519 - accuracy: 0.7949 - val_loss: 0.4046 - val_accuracy: 0.8281\n",
      "Epoch 40/40\n",
      "215/215 [==============================] - 91s 423ms/step - loss: 0.4494 - accuracy: 0.7971 - val_loss: 0.4040 - val_accuracy: 0.8281\n"
     ]
    },
    {
     "data": {
      "image/png": "[encoded data removed]",
      "text/plain": [
       "<Figure size 432x288 with 1 Axes>"
      ]
     },
     "metadata": {
      "needs_background": "light"
     },
     "output_type": "display_data"
    },
    {
     "data": {
      "image/png": "[encoded data removed]",
      "text/plain": [
       "<Figure size 432x288 with 1 Axes>"
      ]
     },
     "metadata": {
      "needs_background": "light"
     },
     "output_type": "display_data"
    },
    {
     "name": "stdout",
     "output_type": "stream",
     "text": [
      "# 4 submission file created!\n"
     ]
    }
   ],
   "source": [
    "num_epochs = 40\n",
    "history = model.fit(train_X, train_y, epochs = num_epochs, validation_data = (val_X, val_y))\n",
    "plot_graph(history, \"accuracy\")\n",
    "plot_graph(history, \"loss\")\n",
    "sub_csv(model, 4,test)"
   ]
  },
  {
   "cell_type": "code",
   "execution_count": null,
   "id": "2bac466d",
   "metadata": {
    "papermill": {
     "duration": 2.805866,
     "end_time": "2022-03-25T17:25:13.595853",
     "exception": false,
     "start_time": "2022-03-25T17:25:10.789987",
     "status": "completed"
    },
    "tags": []
   },
   "outputs": [],
   "source": []
  }
 ],
 "metadata": {
  "kernelspec": {
   "display_name": "Python 3",
   "language": "python",
   "name": "python3"
  },
  "language_info": {
   "codemirror_mode": {
    "name": "ipython",
    "version": 3
   },
   "file_extension": ".py",
   "mimetype": "text/x-python",
   "name": "python",
   "nbconvert_exporter": "python",
   "pygments_lexer": "ipython3",
   "version": "3.7.12"
  },
  "papermill": {
   "default_parameters": {},
   "duration": 3718.532289,
   "end_time": "2022-03-25T17:25:19.371238",
   "environment_variables": {},
   "exception": null,
   "input_path": "__notebook__.ipynb",
   "output_path": "__notebook__.ipynb",
   "parameters": {},
   "start_time": "2022-03-25T16:23:20.838949",
   "version": "2.3.3"
  }
 },
 "nbformat": 4,
 "nbformat_minor": 5
}
