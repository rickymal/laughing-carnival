{
 "cells": [
  {
   "cell_type": "markdown",
   "id": "ecab0ed1",
   "metadata": {
    "papermill": {
     "duration": 0.047043,
     "end_time": "2022-03-25T16:23:28.716309",
     "exception": false,
     "start_time": "2022-03-25T16:23:28.669266",
     "status": "completed"
    },
    "tags": []
   },
   "source": [
    "## Give credit to Notebook: \n",
    "[Basic EDA, Cleaning and Glove][1].\n",
    "\n",
    "**Great introduction for Nature language processing!**\n",
    "\n",
    "[1]: https://www.kaggle.com/code/shahules/basic-eda-cleaning-and-glove"
   ]
  },
  {
   "cell_type": "markdown",
   "id": "3f48f2e3",
   "metadata": {
    "papermill": {
     "duration": 0.045496,
     "end_time": "2022-03-25T16:23:28.810978",
     "exception": false,
     "start_time": "2022-03-25T16:23:28.765482",
     "status": "completed"
    },
    "tags": []
   },
   "source": [
    "## Import libries and load datasets"
   ]
  },
  {
   "cell_type": "code",
   "execution_count": 1,
   "id": "e9978006",
   "metadata": {
    "_cell_guid": "b1076dfc-b9ad-4769-8c92-a6c4dae69d19",
    "_uuid": "8f2839f25d086af736a60e9eeb907d3b93b6e0e5",
    "papermill": {
     "duration": 6.317944,
     "end_time": "2022-03-25T16:23:35.175482",
     "exception": false,
     "start_time": "2022-03-25T16:23:28.857538",
     "status": "completed"
    },
    "tags": []
   },
   "outputs": [],
   "source": [
    "import numpy as np\n",
    "import tensorflow as tf\n",
    "import matplotlib.pyplot as plt\n",
    "import csv\n",
    "import pandas as pd\n",
    "import re\n",
    "import seaborn as sns\n",
    "import string\n",
    "from tqdm import tqdm\n",
    "from collections import defaultdict\n",
    "from nltk.tokenize import word_tokenize\n",
    "from nltk.corpus import stopwords\n",
    "from keras.initializers import Constant\n",
    "from tensorflow.keras.optimizers import Adam\n",
    "from tensorflow.keras.preprocessing.text import Tokenizer\n",
    "from tensorflow.keras.preprocessing.sequence import pad_sequences\n",
    "from tensorflow.keras.optimizers import RMSprop\n",
    "from tensorflow.keras.layers import LSTM, Embedding, Dense, SpatialDropout1D, Bidirectional\n",
    "from sklearn.model_selection import train_test_split\n",
    "from sklearn.feature_extraction.text import CountVectorizer"
   ]
  },
  {
   "cell_type": "code",
   "execution_count": 2,
   "id": "409249f9",
   "metadata": {
    "papermill": {
     "duration": 0.10679,
     "end_time": "2022-03-25T16:23:35.328738",
     "exception": false,
     "start_time": "2022-03-25T16:23:35.221948",
     "status": "completed"
    },
    "tags": []
   },
   "outputs": [],
   "source": [
    "train_df = pd.read_csv(\"train.csv\")\n",
    "test_df = pd.read_csv(\"test.csv\")"
   ]
  },
  {
   "cell_type": "code",
   "execution_count": 3,
   "id": "79c513e0",
   "metadata": {
    "papermill": {
     "duration": 0.062876,
     "end_time": "2022-03-25T16:23:35.438466",
     "exception": false,
     "start_time": "2022-03-25T16:23:35.375590",
     "status": "completed"
    },
    "tags": []
   },
   "outputs": [
    {
     "data": {
      "text/plain": [
       "0       1\n",
       "1       1\n",
       "2       1\n",
       "3       1\n",
       "4       1\n",
       "       ..\n",
       "7608    1\n",
       "7609    1\n",
       "7610    1\n",
       "7611    1\n",
       "7612    1\n",
       "Name: target, Length: 7613, dtype: int64"
      ]
     },
     "execution_count": 3,
     "metadata": {},
     "output_type": "execute_result"
    }
   ],
   "source": [
    "train_df['target']"
   ]
  },
  {
   "cell_type": "markdown",
   "id": "2c6441fa",
   "metadata": {
    "papermill": {
     "duration": 0.046025,
     "end_time": "2022-03-25T16:23:35.530944",
     "exception": false,
     "start_time": "2022-03-25T16:23:35.484919",
     "status": "completed"
    },
    "tags": []
   },
   "source": [
    "## Have a first look at the tweet dataset"
   ]
  },
  {
   "cell_type": "code",
   "execution_count": 4,
   "id": "b8109161",
   "metadata": {
    "papermill": {
     "duration": 0.207072,
     "end_time": "2022-03-25T16:23:35.784493",
     "exception": false,
     "start_time": "2022-03-25T16:23:35.577421",
     "status": "completed"
    },
    "tags": []
   },
   "outputs": [
    {
     "data": {
      "image/png": "[encoded data removed]",
      "text/plain": [
       "<Figure size 576x576 with 1 Axes>"
      ]
     },
     "metadata": {},
     "output_type": "display_data"
    }
   ],
   "source": [
    "# create pie chart for our labels data\n",
    "plt.figure(figsize = [8,8])\n",
    "colors = sns.color_palette('bright')\n",
    "plt.pie(train_df.target.value_counts(), labels = ['non-disaster', 'disaster'], colors = colors, autopct='%1.2f%%')\n",
    "plt.title('Pie Chart to show the non-disaster Verse disaster')\n",
    "\n",
    "plt.show()"
   ]
  },
  {
   "cell_type": "markdown",
   "id": "7fe601ef",
   "metadata": {
    "papermill": {
     "duration": 0.046976,
     "end_time": "2022-03-25T16:23:35.909407",
     "exception": false,
     "start_time": "2022-03-25T16:23:35.862431",
     "status": "completed"
    },
    "tags": []
   },
   "source": [
    "Note that we have more non-disaster tweets than disaster tweets in our training dataset"
   ]
  },
  {
   "cell_type": "markdown",
   "id": "63df1f47",
   "metadata": {
    "papermill": {
     "duration": 0.047149,
     "end_time": "2022-03-25T16:23:36.003446",
     "exception": false,
     "start_time": "2022-03-25T16:23:35.956297",
     "status": "completed"
    },
    "tags": []
   },
   "source": [
    "### understand the distribution of the chars/ words counts for the datase\n",
    "\n",
    "**find out how many characters in each tweets**"
   ]
  },
  {
   "cell_type": "code",
   "execution_count": 5,
   "id": "00dbc2b9",
   "metadata": {
    "papermill": {
     "duration": 0.347505,
     "end_time": "2022-03-25T16:23:36.397639",
     "exception": false,
     "start_time": "2022-03-25T16:23:36.050134",
     "status": "completed"
    },
    "tags": []
   },
   "outputs": [
    {
     "data": {
      "image/png": "[encoded data removed]",
      "text/plain": [
       "<Figure size 720x360 with 2 Axes>"
      ]
     },
     "metadata": {
      "needs_background": "light"
     },
     "output_type": "display_data"
    }
   ],
   "source": [
    "fig, (ax1, ax2)=plt.subplots(1,2,figsize = (10,5))\n",
    "nondisaster_tweets_len = train_df[train_df['target']==0]['text'].str.len()\n",
    "ax1.hist(nondisaster_tweets_len, color = 'blue')\n",
    "ax1.set_title('non-disaster tweets')\n",
    "\n",
    "disaster_tweets_len = train_df[train_df['target']==1]['text'].str.len()\n",
    "ax2.hist(disaster_tweets_len, color = 'red')\n",
    "ax2.set_title('disaster tweets')\n",
    "\n",
    "fig.suptitle('Characters count in tweets')\n",
    "plt.show()"
   ]
  },
  {
   "cell_type": "markdown",
   "id": "afc5ec27",
   "metadata": {
    "papermill": {
     "duration": 0.0476,
     "end_time": "2022-03-25T16:23:36.493399",
     "exception": false,
     "start_time": "2022-03-25T16:23:36.445799",
     "status": "completed"
    },
    "tags": []
   },
   "source": [
    "**find out how many words are used in each tweet**"
   ]
  },
  {
   "cell_type": "code",
   "execution_count": 6,
   "id": "51299b74",
   "metadata": {
    "papermill": {
     "duration": 0.410513,
     "end_time": "2022-03-25T16:23:36.952172",
     "exception": false,
     "start_time": "2022-03-25T16:23:36.541659",
     "status": "completed"
    },
    "tags": []
   },
   "outputs": [
    {
     "data": {
      "image/png": "[encoded data removed]",
      "text/plain": [
       "<Figure size 720x360 with 2 Axes>"
      ]
     },
     "metadata": {
      "needs_background": "light"
     },
     "output_type": "display_data"
    },
    {
     "name": "stdout",
     "output_type": "stream",
     "text": [
      "Non-disaster dataset:\n",
      "       words count\n",
      "count  4342.000000\n",
      "mean     14.704744\n",
      "std       6.161564\n",
      "min       1.000000\n",
      "25%      10.000000\n",
      "50%      15.000000\n",
      "75%      19.000000\n",
      "max      31.000000\n",
      "disaster dataset:\n",
      "       words count\n",
      "count  3271.000000\n",
      "mean     15.167533\n",
      "std       5.096806\n",
      "min       2.000000\n",
      "25%      11.000000\n",
      "50%      15.000000\n",
      "75%      19.000000\n",
      "max      30.000000\n"
     ]
    }
   ],
   "source": [
    "word_count0 = []\n",
    "word_count1 = []\n",
    "non_disaster_tweets = train_df[train_df['target'] == 0]['text'].values\n",
    "disaster_tweets = train_df[train_df['target'] == 1]['text'].values\n",
    "for i in range(non_disaster_tweets.shape[0]):\n",
    "    cur_wordcount = len(non_disaster_tweets[i].split())\n",
    "    word_count0.append(cur_wordcount)\n",
    "for i in range(disaster_tweets.shape[0]):\n",
    "    cur_wordcount = len(disaster_tweets[i].split())\n",
    "    word_count1.append(cur_wordcount)\n",
    "\n",
    "fig, (ax1, ax2)=plt.subplots(1,2,figsize = (10,5))\n",
    "ax1.hist(word_count0, color = 'blue')\n",
    "ax1.set_title('non disaster tweets')\n",
    "\n",
    "notdisaster_tweets_len = train_df[train_df['target']==0]['text'].str.len()\n",
    "ax2.hist(word_count1, color = 'red')\n",
    "ax2.set_title('disaster tweets')\n",
    "\n",
    "fig.suptitle('Words count in tweets')\n",
    "plt.show()\n",
    "\n",
    "## have some statistic info for non-disaster and disaster dataset\n",
    "df1 = pd.DataFrame (word_count0, columns = ['words count'])\n",
    "print('Non-disaster dataset:')\n",
    "print(df1.describe())\n",
    "\n",
    "df2 = pd.DataFrame (word_count1, columns = ['words count'])\n",
    "print('disaster dataset:')\n",
    "print(df2.describe())"
   ]
  },
  {
   "cell_type": "markdown",
   "id": "e6d42ddc",
   "metadata": {
    "papermill": {
     "duration": 0.050579,
     "end_time": "2022-03-25T16:23:37.054712",
     "exception": false,
     "start_time": "2022-03-25T16:23:37.004133",
     "status": "completed"
    },
    "tags": []
   },
   "source": [
    "We notice that the average of words and characters used in either non-disaster and disaster tweets are similar."
   ]
  },
  {
   "cell_type": "markdown",
   "id": "2966a781",
   "metadata": {
    "papermill": {
     "duration": 0.05208,
     "end_time": "2022-03-25T16:23:37.159256",
     "exception": false,
     "start_time": "2022-03-25T16:23:37.107176",
     "status": "completed"
    },
    "tags": []
   },
   "source": [
    "### Find some most common words in non-disaster and disaster tweets\n",
    "\n",
    "Ref: [How to list the most common words from text corpus using Scikit-learn][1]\n",
    "\n",
    "[1]: https://medium.com/@cristhianboujon/how-to-list-the-most-common-words-from-text-corpus-using-scikit-learn-dad4d0cab41d"
   ]
  },
  {
   "cell_type": "code",
   "execution_count": 7,
   "id": "3b1b4b65",
   "metadata": {
    "papermill": {
     "duration": 0.940336,
     "end_time": "2022-03-25T16:23:38.158075",
     "exception": false,
     "start_time": "2022-03-25T16:23:37.217739",
     "status": "completed"
    },
    "tags": []
   },
   "outputs": [
    {
     "data": {
      "image/png": "[encoded data removed]",
      "text/plain": [
       "<Figure size 1080x720 with 1 Axes>"
      ]
     },
     "metadata": {
      "needs_background": "light"
     },
     "output_type": "display_data"
    },
    {
     "data": {
      "image/png": "[encoded data removed]",
      "text/plain": [
       "<Figure size 1080x720 with 1 Axes>"
      ]
     },
     "metadata": {
      "needs_background": "light"
     },
     "output_type": "display_data"
    }
   ],
   "source": [
    "def get_top_n_words_include_stopwords(corpus, n=None, figsize = [15, 10], title = None):\n",
    "    vec = CountVectorizer().fit(corpus)\n",
    "    bag_of_words = vec.transform(corpus)\n",
    "    sum_words = bag_of_words.sum(axis = 0)\n",
    "    words_freq = [(word, sum_words[0, idx]) for word, idx in vec.vocabulary_.items()]\n",
    "    words_freq = sorted(words_freq, key = lambda x: x[1], reverse=True)\n",
    "    # Create a bar chart to show the top freqs words\n",
    "    words = []\n",
    "    freqs = []\n",
    "    for word, freq in words_freq[:n]:\n",
    "        words.append(word)\n",
    "        freqs.append(freq)\n",
    "    plt.figure(figsize = figsize)\n",
    "    plt.bar(words, freqs, width = 0.8)\n",
    "    plt.title('Top {} Words in {} Tweets Before Removeing Stopwords'.format(n, title))\n",
    "    plt.xlabel(\"Top Words\")\n",
    "    plt.ylabel(\"NO. of times it appeard\")\n",
    "    plt.show()\n",
    "    return words_freq[:n]\n",
    "# create bar chart to show the top 20 words in non_disaster tweets\n",
    "non_disaster_tweets = train_df[train_df['target']==0]['text']\n",
    "topwords_nondisaster = get_top_n_words_include_stopwords(non_disaster_tweets, n=20, title = 'Non-disaster')\n",
    "\n",
    "\n",
    "# create bar chart to show the top 20 words in disaster tweets\n",
    "disaster_tweets = train_df[train_df['target']==1]['text']\n",
    "topwords_disaster = get_top_n_words_include_stopwords(disaster_tweets, n=20, title = 'disaster')"
   ]
  },
  {
   "cell_type": "markdown",
   "id": "ed51df31",
   "metadata": {
    "papermill": {
     "duration": 0.05158,
     "end_time": "2022-03-25T16:23:38.262273",
     "exception": false,
     "start_time": "2022-03-25T16:23:38.210693",
     "status": "completed"
    },
    "tags": []
   },
   "source": [
    "Notice that most of the top words occurs in both datasets are some common stop words and url, such as http, the, in, of, etc. Those stopwords are not good indicators for our model to identify the difference between non-disaster tweets and disaster tweets. \n",
    "\n",
    "**Lets remove the stopwords and check again about the most frequently appeared words**\n",
    "\n",
    "In the following section, I will remove common stopwords in the datasets. However, we noticed that some top words are not commonly considered as regular stopwords, such as **http** and **co**. But **http** and **co** are commonly found in urls, so we need to remove urls in our preprocessing steps later. \n",
    "\n",
    "For now, I will include **http** and **co** in the stopwords if they are not included already, so we can remove them and see other top frecrently appeared words in our tweets datasets."
   ]
  },
  {
   "cell_type": "code",
   "execution_count": 8,
   "id": "e44fa482",
   "metadata": {
    "papermill": {
     "duration": 0.065033,
     "end_time": "2022-03-25T16:23:38.378747",
     "exception": false,
     "start_time": "2022-03-25T16:23:38.313714",
     "status": "completed"
    },
    "tags": []
   },
   "outputs": [
    {
     "name": "stdout",
     "output_type": "stream",
     "text": [
      "['û_', 'like', 'co', 'https', 'fire', 'http']\n"
     ]
    }
   ],
   "source": [
    "# create a set to contain all top words in our non-disaster tweets and disaster tweets\n",
    "# then, compare the set of words with our stopwords to check if we need to add anything\n",
    "words_set = set()\n",
    "topwords = topwords_nondisaster + topwords_disaster\n",
    "for word, freq in topwords:\n",
    "    words_set.add(word)\n",
    "stop = set(stopwords.words('english'))\n",
    "## check if our stop words contains some common topwords here:\n",
    "not_inside = []\n",
    "for topword in words_set:\n",
    "    if not topword in stop:\n",
    "        not_inside.append(topword)\n",
    "print(not_inside)"
   ]
  },
  {
   "cell_type": "markdown",
   "id": "ac377ec2",
   "metadata": {
    "papermill": {
     "duration": 0.051068,
     "end_time": "2022-03-25T16:23:38.482609",
     "exception": false,
     "start_time": "2022-03-25T16:23:38.431541",
     "status": "completed"
    },
    "tags": []
   },
   "source": [
    "As we thought earlier, words like **co** and **http** are not included in the **stopwords**, lets include them! \n",
    "\n",
    "Since words like **fire**, **like**, **https**, **û_** only appear to be top 20 words on either one of the datasets, we will keep them."
   ]
  },
  {
   "cell_type": "code",
   "execution_count": 9,
   "id": "f6b88154",
   "metadata": {
    "papermill": {
     "duration": 0.05761,
     "end_time": "2022-03-25T16:23:38.591636",
     "exception": false,
     "start_time": "2022-03-25T16:23:38.534026",
     "status": "completed"
    },
    "tags": []
   },
   "outputs": [],
   "source": [
    "stop.add('co')\n",
    "stop.add('http')"
   ]
  },
  {
   "cell_type": "markdown",
   "id": "92bebf2c",
   "metadata": {
    "papermill": {
     "duration": 0.050924,
     "end_time": "2022-03-25T16:23:38.693653",
     "exception": false,
     "start_time": "2022-03-25T16:23:38.642729",
     "status": "completed"
    },
    "tags": []
   },
   "source": [
    "Now, we can remove the stopwords from our dataset and check again about new topwords appeared in our non-disaster and disaster tweets dataset"
   ]
  },
  {
   "cell_type": "code",
   "execution_count": 10,
   "id": "8231a2b9",
   "metadata": {
    "papermill": {
     "duration": 1.099137,
     "end_time": "2022-03-25T16:23:39.844243",
     "exception": false,
     "start_time": "2022-03-25T16:23:38.745106",
     "status": "completed"
    },
    "tags": []
   },
   "outputs": [
    {
     "data": {
      "image/png": "[encoded data removed]",
      "text/plain": [
       "<Figure size 1080x720 with 1 Axes>"
      ]
     },
     "metadata": {
      "needs_background": "light"
     },
     "output_type": "display_data"
    },
    {
     "data": {
      "image/png": "[encoded data removed]",
      "text/plain": [
       "<Figure size 1080x720 with 1 Axes>"
      ]
     },
     "metadata": {
      "needs_background": "light"
     },
     "output_type": "display_data"
    }
   ],
   "source": [
    "# First remove common stop words\n",
    "def get_top_n_words_without_stopwords(corpus, n=None, figsize = [15, 10], title = None):\n",
    "    vec = CountVectorizer().fit(corpus)\n",
    "    bag_of_words = vec.transform(corpus)\n",
    "    sum_words = bag_of_words.sum(axis = 0)\n",
    "    words_freq = [(word, sum_words[0, idx]) for word, idx in vec.vocabulary_.items() if (word not in stop)]\n",
    "    words_freq = sorted(words_freq, key = lambda x: x[1], reverse=True)\n",
    "    # Create a bar chart to show the top freqs words\n",
    "    words = []\n",
    "    freqs = []\n",
    "    for word, freq in words_freq[:n]:\n",
    "        words.append(word)\n",
    "        freqs.append(freq)\n",
    "    plt.figure(figsize = figsize)\n",
    "    plt.bar(words, freqs, width = 0.8)\n",
    "    plt.title('Top {} Words in {} Tweets Before Removeing Stopwords'.format(n, title))\n",
    "    plt.xlabel(\"Top Words\")\n",
    "    plt.ylabel(\"NO. of times it appeard\")\n",
    "    plt.show()\n",
    "    return words_freq\n",
    "# create bar chart to show the top 20 words in non_disaster tweets\n",
    "non_disaster_tweets = train_df[train_df['target']==0]['text']\n",
    "topwords_nondisaster = get_top_n_words_without_stopwords(non_disaster_tweets, n=20, title = 'Non-disaster')\n",
    "\n",
    "\n",
    "# create bar chart to show the top 20 words in disaster tweets\n",
    "disaster_tweets = train_df[train_df['target']==1]['text']\n",
    "topwords_disaster = get_top_n_words_without_stopwords(disaster_tweets, n=20, title = 'disaster')"
   ]
  },
  {
   "cell_type": "markdown",
   "id": "b4a8a409",
   "metadata": {
    "papermill": {
     "duration": 0.056462,
     "end_time": "2022-03-25T16:23:39.955005",
     "exception": false,
     "start_time": "2022-03-25T16:23:39.898543",
     "status": "completed"
    },
    "tags": []
   },
   "source": [
    "If we want, we can add more stopwords to our cleaning process, such as **like**, **https** and **û_**. But I think we are at a good starting point! "
   ]
  },
  {
   "cell_type": "markdown",
   "id": "e1856993",
   "metadata": {
    "papermill": {
     "duration": 0.056561,
     "end_time": "2022-03-25T16:23:40.068795",
     "exception": false,
     "start_time": "2022-03-25T16:23:40.012234",
     "status": "completed"
    },
    "tags": []
   },
   "source": [
    "### Lets check whether our non-disaster and disaster tweets have similar amount of puntuations and numbers."
   ]
  },
  {
   "cell_type": "code",
   "execution_count": 11,
   "id": "9169733e",
   "metadata": {
    "papermill": {
     "duration": 0.064775,
     "end_time": "2022-03-25T16:23:40.189597",
     "exception": false,
     "start_time": "2022-03-25T16:23:40.124822",
     "status": "completed"
    },
    "tags": []
   },
   "outputs": [],
   "source": [
    "## create corpus from the training dataset\n",
    "def create_corpus(target):\n",
    "    corpus = []\n",
    "    for x in train_df[train_df['target'] == target]['text'].str.split():\n",
    "        for i in x:\n",
    "            corpus.append(i)\n",
    "    return corpus"
   ]
  },
  {
   "cell_type": "code",
   "execution_count": 12,
   "id": "5587811d",
   "metadata": {
    "papermill": {
     "duration": 0.070016,
     "end_time": "2022-03-25T16:23:40.316443",
     "exception": false,
     "start_time": "2022-03-25T16:23:40.246427",
     "status": "completed"
    },
    "tags": []
   },
   "outputs": [],
   "source": [
    "def create_barplot(dic1, dic2, figsize = [8,5], title = None):\n",
    "    # sort the dictionary by the values and create two lists for keys and values\n",
    "    dic1 = {k: v for k, v in sorted(dic1.items(), key=lambda item:item[1])}\n",
    "    keys1 = []\n",
    "    values1 = []\n",
    "    keys2 = []\n",
    "    values2 = []\n",
    "    for key1, value1 in dic1.items():\n",
    "        keys1.append(key1)\n",
    "        values1.append(value1)\n",
    "        keys2.append(key1)\n",
    "        values2.append(dic2[key1])\n",
    "    \n",
    "    # create bar plot \n",
    "    X_axis = np.arange(len(keys1))\n",
    "\n",
    "    fig = plt.figure(figsize = figsize)\n",
    "    plt.bar(X_axis - 0.2, values1, 0.4, label = 'non-disaster')\n",
    "    plt.bar(X_axis + 0.2, values2, 0.4, label = 'disaster')\n",
    "    plt.xticks(X_axis, keys1)\n",
    "    plt.legend()\n",
    "    plt.title('Bar plot for {}'.format(title))\n",
    "    plt.xlabel(title)\n",
    "    plt.ylabel('No. of times it appeared')\n",
    "    plt.show()"
   ]
  },
  {
   "cell_type": "markdown",
   "id": "678ea1d6",
   "metadata": {
    "papermill": {
     "duration": 0.054113,
     "end_time": "2022-03-25T16:23:40.425346",
     "exception": false,
     "start_time": "2022-03-25T16:23:40.371233",
     "status": "completed"
    },
    "tags": []
   },
   "source": [
    "**First, check the non-disaster tweets, we will create two bar plots to show the frequency of punctuations in the tweets**"
   ]
  },
  {
   "cell_type": "code",
   "execution_count": 13,
   "id": "db6879bd",
   "metadata": {
    "papermill": {
     "duration": 0.397337,
     "end_time": "2022-03-25T16:23:40.875694",
     "exception": false,
     "start_time": "2022-03-25T16:23:40.478357",
     "status": "completed"
    },
    "tags": []
   },
   "outputs": [
    {
     "data": {
      "image/png": "[encoded data removed]",
      "text/plain": [
       "<Figure size 576x360 with 1 Axes>"
      ]
     },
     "metadata": {
      "needs_background": "light"
     },
     "output_type": "display_data"
    }
   ],
   "source": [
    "# Note to self: we use collection.defaultdict function to create the dictionary\n",
    "# If we use regular dict, we nee to make sure the key already exists in the dict\n",
    "punc = string.punctuation\n",
    "## first, lets check non-disaster tweets\n",
    "corpus0 = create_corpus(0)\n",
    "punc_dict0 = defaultdict(int)\n",
    "for i in corpus0:\n",
    "    if i in punc:\n",
    "        punc_dict0[i] += 1\n",
    "\n",
    "corpus1 = create_corpus(1)\n",
    "punc_dict1 = defaultdict(int)\n",
    "\n",
    "for i in corpus1:\n",
    "    if i in punc:\n",
    "        punc_dict1[i] += 1\n",
    "\n",
    "create_barplot(punc_dict0, punc_dict1, title = 'punctuation')"
   ]
  },
  {
   "cell_type": "markdown",
   "id": "8efdf926",
   "metadata": {
    "papermill": {
     "duration": 0.054055,
     "end_time": "2022-03-25T16:23:40.983903",
     "exception": false,
     "start_time": "2022-03-25T16:23:40.929848",
     "status": "completed"
    },
    "tags": []
   },
   "source": [
    "In the bar chart, I cannot see any sign that any punctuation will help us to differentiate non-disaster and disaster tweets. I will remove the punctuation in our datasets in the preprocessing steps. \n",
    "\n",
    "**Now, lets check the usage of numbers in two different tweets.**"
   ]
  },
  {
   "cell_type": "code",
   "execution_count": 14,
   "id": "16b81f26",
   "metadata": {
    "papermill": {
     "duration": 0.288085,
     "end_time": "2022-03-25T16:23:41.326271",
     "exception": false,
     "start_time": "2022-03-25T16:23:41.038186",
     "status": "completed"
    },
    "tags": []
   },
   "outputs": [
    {
     "data": {
      "image/png": "[encoded data removed]",
      "text/plain": [
       "<Figure size 432x288 with 1 Axes>"
      ]
     },
     "metadata": {
      "needs_background": "light"
     },
     "output_type": "display_data"
    }
   ],
   "source": [
    "nums = string.digits\n",
    "## count NO. of numbers appeared in a tweet of a dataset\n",
    "def countnum(target):\n",
    "    tweets = train_df[train_df['target']==target]['text'].values\n",
    "    counts = []\n",
    "    for i in range(tweets.shape[0]):\n",
    "        count = 0\n",
    "        tweet_words = tweets[i].split() # a list that contains all words in a tweet\n",
    "        for word in tweet_words:\n",
    "            if word in nums:\n",
    "                count += 1\n",
    "        counts.append(count)\n",
    "    return counts\n",
    "count0 = countnum(0)\n",
    "count1 = countnum(1)\n",
    "## create histogram to show the number usages in non-disaster and disaster tweets datasets\n",
    "plt.figure()\n",
    "plt.hist([count0, count1], 4, label = ['non-disaster tweets', 'disaster tweets'])\n",
    "plt.title('Number usages in non-disaster and disaster tweets')\n",
    "plt.legend()\n",
    "plt.show()"
   ]
  },
  {
   "cell_type": "markdown",
   "id": "093db765",
   "metadata": {
    "papermill": {
     "duration": 0.055121,
     "end_time": "2022-03-25T16:23:41.436821",
     "exception": false,
     "start_time": "2022-03-25T16:23:41.381700",
     "status": "completed"
    },
    "tags": []
   },
   "source": [
    "As we can see from the above histogram, non-disaster tweets tend to use numbers more in their sentences. In my opinion, the number could be considered as a good features to keep to seperate non-disaster and disaster tweets."
   ]
  },
  {
   "cell_type": "markdown",
   "id": "0002ba92",
   "metadata": {
    "papermill": {
     "duration": 0.057537,
     "end_time": "2022-03-25T16:23:41.549388",
     "exception": false,
     "start_time": "2022-03-25T16:23:41.491851",
     "status": "completed"
    },
    "tags": []
   },
   "source": [
    "## Preprocessing the datasets for model training\n",
    "\n",
    "In this notebook, I cleaned the text dataset by lowering letter case, removing stopwords, the urls, html tages, emoji, and punctuations. \n",
    "\n",
    "For preprocess step, we will convert the text to vectors, and create our embedding layer based on pre trained package **Glove**. "
   ]
  },
  {
   "cell_type": "code",
   "execution_count": 15,
   "id": "fb1af33a",
   "metadata": {
    "papermill": {
     "duration": 0.066704,
     "end_time": "2022-03-25T16:23:41.670953",
     "exception": false,
     "start_time": "2022-03-25T16:23:41.604249",
     "status": "completed"
    },
    "tags": []
   },
   "outputs": [
    {
     "data": {
      "text/plain": [
       "(10876, 5)"
      ]
     },
     "execution_count": 15,
     "metadata": {},
     "output_type": "execute_result"
    }
   ],
   "source": [
    "## First, concat training and testing dataframe, we want to have the same preprocess on our messages for both datasets\n",
    "df = pd.concat([train_df, test_df])\n",
    "df.shape"
   ]
  },
  {
   "cell_type": "markdown",
   "id": "5e7dad1f",
   "metadata": {
    "papermill": {
     "duration": 0.054912,
     "end_time": "2022-03-25T16:23:41.781216",
     "exception": false,
     "start_time": "2022-03-25T16:23:41.726304",
     "status": "completed"
    },
    "tags": []
   },
   "source": [
    "**Create some sub functions to our preprocess/cleaning steps**"
   ]
  },
  {
   "cell_type": "code",
   "execution_count": 16,
   "id": "29dac470",
   "metadata": {
    "papermill": {
     "duration": 0.063841,
     "end_time": "2022-03-25T16:23:41.900549",
     "exception": false,
     "start_time": "2022-03-25T16:23:41.836708",
     "status": "completed"
    },
    "tags": []
   },
   "outputs": [],
   "source": [
    "# remove urls\n",
    "def remove_url(text):\n",
    "    url = re.compile(r'https?://\\S+|www\\.\\S+')\n",
    "    return url.sub(r'', text)\n",
    "\n",
    "# remove HTML tags\n",
    "def remove_html(text):\n",
    "    html = re.compile(r'<.*?>')\n",
    "    return html.sub(r'', text)\n",
    "# remove emojis\n",
    "# Reference : https://gist.github.com/slowkow/7a7f61f495e3dbb7e3d767f97bd7304b\n",
    "def remove_emoji(text):\n",
    "    emoji_pattern = re.compile(\"[\"\n",
    "                           u\"\\U0001F600-\\U0001F64F\"  # emoticons\n",
    "                           u\"\\U0001F300-\\U0001F5FF\"  # symbols & pictographs\n",
    "                           u\"\\U0001F680-\\U0001F6FF\"  # transport & map symbols\n",
    "                           u\"\\U0001F1E0-\\U0001F1FF\"  # flags (iOS)\n",
    "                           u\"\\U00002702-\\U000027B0\"\n",
    "                           u\"\\U000024C2-\\U0001F251\"\n",
    "                           \"]+\", flags=re.UNICODE)\n",
    "    return emoji_pattern.sub(r'', text)\n",
    "\n",
    "# remove punctuations\n",
    "def remove_punct(text):\n",
    "    table = str.maketrans('','',string.punctuation)\n",
    "    return text.translate(table)"
   ]
  },
  {
   "cell_type": "markdown",
   "id": "358f05c8",
   "metadata": {
    "papermill": {
     "duration": 0.054841,
     "end_time": "2022-03-25T16:23:42.010899",
     "exception": false,
     "start_time": "2022-03-25T16:23:41.956058",
     "status": "completed"
    },
    "tags": []
   },
   "source": [
    "**We can consider to have spell checker for our tweets data, but note that the spell checker code would be time consuming**"
   ]
  },
  {
   "cell_type": "code",
   "execution_count": 17,
   "id": "502348bd",
   "metadata": {
    "papermill": {
     "duration": 10.407695,
     "end_time": "2022-03-25T16:23:52.474121",
     "exception": false,
     "start_time": "2022-03-25T16:23:42.066426",
     "status": "completed"
    },
    "tags": []
   },
   "outputs": [
    {
     "name": "stdout",
     "output_type": "stream",
     "text": [
      "Requirement already satisfied: pyspellchecker in c:\\users\\henri_m9qs9bn\\miniconda3\\envs\\kaggle\\lib\\site-packages (0.6.3)\n"
     ]
    }
   ],
   "source": [
    "## correct spelling using pyspellchecker\n",
    "!pip install pyspellchecker\n",
    "from spellchecker import SpellChecker\n",
    "def correct_spellings(text):\n",
    "    corrected_text = []\n",
    "    misspelled_words = SpellChecker().unknown(text.split())\n",
    "    for word in text.split():\n",
    "        if word in misspelled_words:\n",
    "            corrected_text.append(SpellChecker().correction(word))\n",
    "        else:\n",
    "            corrected_text.append(word)\n",
    "    return \" \".join(corrected_text)\n",
    "text = \"corect me plese\""
   ]
  },
  {
   "cell_type": "code",
   "execution_count": 18,
   "id": "d1f2a148",
   "metadata": {
    "papermill": {
     "duration": 0.071144,
     "end_time": "2022-03-25T16:23:52.606768",
     "exception": false,
     "start_time": "2022-03-25T16:23:52.535624",
     "status": "completed"
    },
    "tags": []
   },
   "outputs": [],
   "source": [
    "## Use this preprocessing function to decide what cleaning steps we want \n",
    "def preprocessing(text):\n",
    "    text = remove_url(text)\n",
    "    text = remove_html(text)\n",
    "    text = remove_emoji(text)\n",
    "    text = remove_punct(text)\n",
    "    return text"
   ]
  },
  {
   "cell_type": "code",
   "execution_count": 19,
   "id": "ba43efc7",
   "metadata": {
    "papermill": {
     "duration": 0.253282,
     "end_time": "2022-03-25T16:23:52.920660",
     "exception": false,
     "start_time": "2022-03-25T16:23:52.667378",
     "status": "completed"
    },
    "tags": []
   },
   "outputs": [],
   "source": [
    "# applying the cleaning process for our text data\n",
    "df['text'] = df['text'].apply(lambda x: preprocessing(x))"
   ]
  },
  {
   "cell_type": "code",
   "execution_count": 20,
   "id": "672dfc6c",
   "metadata": {
    "papermill": {
     "duration": 0.066111,
     "end_time": "2022-03-25T16:23:53.048445",
     "exception": false,
     "start_time": "2022-03-25T16:23:52.982334",
     "status": "completed"
    },
    "tags": []
   },
   "outputs": [],
   "source": [
    "# we can decide to run this code or not based on our time line\n",
    "# df['text'] = df['text'].apply(lambda x: correct_spellings(x))"
   ]
  },
  {
   "cell_type": "markdown",
   "id": "4ab37aea",
   "metadata": {
    "papermill": {
     "duration": 0.063337,
     "end_time": "2022-03-25T16:23:53.174205",
     "exception": false,
     "start_time": "2022-03-25T16:23:53.110868",
     "status": "completed"
    },
    "tags": []
   },
   "source": [
    "Lets check out the output after we preprocessed our text datasets"
   ]
  },
  {
   "cell_type": "code",
   "execution_count": 21,
   "id": "22984ec4",
   "metadata": {
    "papermill": {
     "duration": 0.073479,
     "end_time": "2022-03-25T16:23:53.312233",
     "exception": false,
     "start_time": "2022-03-25T16:23:53.238754",
     "status": "completed"
    },
    "tags": []
   },
   "outputs": [
    {
     "data": {
      "text/plain": [
       "0       Our Deeds are the Reason of this earthquake Ma...\n",
       "1                   Forest fire near La Ronge Sask Canada\n",
       "2       All residents asked to shelter in place are be...\n",
       "3       13000 people receive wildfires evacuation orde...\n",
       "4       Just got sent this photo from Ruby Alaska as s...\n",
       "                              ...                        \n",
       "3258    EARTHQUAKE SAFETY LOS ANGELES ÛÒ SAFETY FASTE...\n",
       "3259    Storm in RI worse than last hurricane My citya...\n",
       "3260                    Green Line derailment in Chicago \n",
       "3261            MEG issues Hazardous Weather Outlook HWO \n",
       "3262    CityofCalgary has activated its Municipal Emer...\n",
       "Name: text, Length: 10876, dtype: object"
      ]
     },
     "execution_count": 21,
     "metadata": {},
     "output_type": "execute_result"
    }
   ],
   "source": [
    "df['text']"
   ]
  },
  {
   "cell_type": "markdown",
   "id": "79fddd43",
   "metadata": {
    "papermill": {
     "duration": 0.06102,
     "end_time": "2022-03-25T16:23:53.435087",
     "exception": false,
     "start_time": "2022-03-25T16:23:53.374067",
     "status": "completed"
    },
    "tags": []
   },
   "source": [
    "Not so bad! We noticed that we have donw things that we want to complish in our data cleaning steps.\n",
    "\n",
    "**Coming next, we need to convert our corpus to vectors, so we can use numerical values to represent every tweets.**"
   ]
  },
  {
   "cell_type": "code",
   "execution_count": 22,
   "id": "ccad1e62",
   "metadata": {
    "papermill": {
     "duration": 0.08147,
     "end_time": "2022-03-25T16:23:53.577393",
     "exception": false,
     "start_time": "2022-03-25T16:23:53.495923",
     "status": "completed"
    },
    "tags": []
   },
   "outputs": [],
   "source": [
    "# stop = set(stopwords.words('english'))\n",
    "# ## create corpus from the dataframe\n",
    "# def create_corpus(df):\n",
    "#     corpus = []\n",
    "#     for tweet in df['text']:\n",
    "#         for word in word_tokenize(tweet):\n",
    "#             if word not in stop:\n",
    "#                 corpus.append(word.lower())\n",
    "#     return corpus"
   ]
  },
  {
   "cell_type": "code",
   "execution_count": 23,
   "id": "c6ee0663",
   "metadata": {
    "papermill": {
     "duration": 0.121001,
     "end_time": "2022-03-25T16:23:53.809210",
     "exception": false,
     "start_time": "2022-03-25T16:23:53.688209",
     "status": "completed"
    },
    "tags": []
   },
   "outputs": [],
   "source": [
    "stop = set(stopwords.words('english'))\n",
    "def create_corpus(df):\n",
    "    corpus = []\n",
    "    for tweet in df['text']:\n",
    "        words = [word.lower() for word in word_tokenize(tweet) if ((word.isalpha() ==1) & (word not in stop))]\n",
    "        corpus.append(words)\n",
    "    return corpus"
   ]
  },
  {
   "cell_type": "code",
   "execution_count": 24,
   "id": "5004db04",
   "metadata": {
    "papermill": {
     "duration": 2.13717,
     "end_time": "2022-03-25T16:23:56.046608",
     "exception": false,
     "start_time": "2022-03-25T16:23:53.909438",
     "status": "completed"
    },
    "tags": []
   },
   "outputs": [
    {
     "data": {
      "text/plain": [
       "10876"
      ]
     },
     "execution_count": 24,
     "metadata": {},
     "output_type": "execute_result"
    }
   ],
   "source": [
    "corpus = create_corpus(df)\n",
    "len(corpus)"
   ]
  },
  {
   "cell_type": "code",
   "execution_count": 25,
   "id": "38ebade4",
   "metadata": {
    "papermill": {
     "duration": 2.238667,
     "end_time": "2022-03-25T16:23:58.348620",
     "exception": false,
     "start_time": "2022-03-25T16:23:56.109953",
     "status": "completed"
    },
    "tags": []
   },
   "outputs": [
    {
     "name": "stdout",
     "output_type": "stream",
     "text": [
      "20342\n"
     ]
    }
   ],
   "source": [
    "## since the maximum of number of words used in each tweet are less than 30, we will set maxlen to 50 to avoid truncat any tweets.\n",
    "corpus = create_corpus(df)\n",
    "maxlen = 50\n",
    "tokenizer_obj = Tokenizer()\n",
    "tokenizer_obj.fit_on_texts(corpus)\n",
    "sequences = tokenizer_obj.texts_to_sequences(corpus)\n",
    "tweet_pad = pad_sequences(sequences, maxlen = maxlen, truncating = 'post', padding = 'post')\n",
    "word_index = tokenizer_obj.word_index\n",
    "print(len(word_index))"
   ]
  },
  {
   "cell_type": "code",
   "execution_count": 26,
   "id": "8513967f",
   "metadata": {
    "papermill": {
     "duration": 0.071631,
     "end_time": "2022-03-25T16:23:58.482244",
     "exception": false,
     "start_time": "2022-03-25T16:23:58.410613",
     "status": "completed"
    },
    "tags": []
   },
   "outputs": [],
   "source": [
    "def create_embedding(embedding_dimension, word_index = word_index, source_path = False):\n",
    "    # use this function to create embedding layer with given string: embedding dimension and tokenizers: word_index \n",
    "    # output is the embedding layer for the given embedding dimension\n",
    "    embedding_dict = {}\n",
    "    glove_filename = 'glover/glove.6B.'+ embedding_dimension +'d.txt'\n",
    "    with open(glove_filename, 'r',encoding = 'utf8') as f:\n",
    "        for line in f:\n",
    "            values = line.split()\n",
    "            word = values[0]\n",
    "            vectors = np.asarray(values[1:], 'float32')\n",
    "            embedding_dict[word] = vectors\n",
    "    f.close()\n",
    "    \n",
    "    # create embedding matrix with pre trained glove file\n",
    "    num_words = len(word_index)+1\n",
    "    embedding_matrix = np.zeros((num_words, int(embedding_dimension)))\n",
    "    for word, i in tqdm(word_index.items()):\n",
    "        if i > num_words:\n",
    "            continue\n",
    "        emb_vec = embedding_dict.get(word)\n",
    "        if emb_vec is not None:\n",
    "            embedding_matrix[i] = emb_vec\n",
    "        embedding_layer = Embedding(num_words, int(embedding_dimension), embeddings_initializer = Constant(embedding_matrix), input_length = maxlen, trainable = False)\n",
    "    print('Embedding layer created!')\n",
    "    return embedding_layer"
   ]
  },
  {
   "cell_type": "code",
   "execution_count": 27,
   "id": "e2b4342d",
   "metadata": {
    "papermill": {
     "duration": 0.068418,
     "end_time": "2022-03-25T16:23:58.612178",
     "exception": false,
     "start_time": "2022-03-25T16:23:58.543760",
     "status": "completed"
    },
    "tags": []
   },
   "outputs": [],
   "source": [
    "def create_lstm(num_neurons, bidir):\n",
    "    if bidir == True:\n",
    "        return Bidirectional(LSTM(num_neurons, dropout = 0.2, recurrent_dropout = 0.2))\n",
    "    else:\n",
    "        return LSTM(num_neurons, dropout = 0.2, recurrent_dropout = 0.2)"
   ]
  },
  {
   "cell_type": "code",
   "execution_count": 28,
   "id": "e90a5a31",
   "metadata": {
    "papermill": {
     "duration": 0.073311,
     "end_time": "2022-03-25T16:23:58.746691",
     "exception": false,
     "start_time": "2022-03-25T16:23:58.673380",
     "status": "completed"
    },
    "tags": []
   },
   "outputs": [
    {
     "name": "stdout",
     "output_type": "stream",
     "text": [
      "(6851, 50)\n",
      "(762, 50)\n"
     ]
    }
   ],
   "source": [
    "# create training and validation datasets for our model training phrase\n",
    "train = tweet_pad[:train_df.shape[0]]\n",
    "test = tweet_pad[train_df.shape[0]:]\n",
    "test_size = 0.1\n",
    "train_X, val_X, train_y, val_y = train_test_split(train, train_df['target'].values, test_size = test_size)\n",
    "print(train_X.shape)\n",
    "print(val_X.shape)"
   ]
  },
  {
   "cell_type": "markdown",
   "id": "132e0ccc",
   "metadata": {
    "papermill": {
     "duration": 0.061878,
     "end_time": "2022-03-25T16:23:58.871199",
     "exception": false,
     "start_time": "2022-03-25T16:23:58.809321",
     "status": "completed"
    },
    "tags": []
   },
   "source": [
    "Time to build the models! (My favorite part😃!)"
   ]
  },
  {
   "cell_type": "markdown",
   "id": "36f1bc5a",
   "metadata": {
    "papermill": {
     "duration": 0.06193,
     "end_time": "2022-03-25T16:23:58.994996",
     "exception": false,
     "start_time": "2022-03-25T16:23:58.933066",
     "status": "completed"
    },
    "tags": []
   },
   "source": [
    "## Building pipeline for model comparision"
   ]
  },
  {
   "cell_type": "code",
   "execution_count": 29,
   "id": "4b37f38a",
   "metadata": {
    "papermill": {
     "duration": 0.069608,
     "end_time": "2022-03-25T16:23:59.126369",
     "exception": false,
     "start_time": "2022-03-25T16:23:59.056761",
     "status": "completed"
    },
    "tags": []
   },
   "outputs": [],
   "source": [
    "def plot_graph(history, string):\n",
    "    plt.plot(history.history[string])\n",
    "    plt.plot(history.history['val_'+string])\n",
    "    plt.xlabel('Epochs')\n",
    "    plt.ylabel(string)\n",
    "    plt.legend([string, 'val_'+string])\n",
    "    plt.show()"
   ]
  },
  {
   "cell_type": "code",
   "execution_count": 30,
   "id": "d568a7d4",
   "metadata": {
    "papermill": {
     "duration": 0.07069,
     "end_time": "2022-03-25T16:23:59.261676",
     "exception": false,
     "start_time": "2022-03-25T16:23:59.190986",
     "status": "completed"
    },
    "tags": []
   },
   "outputs": [],
   "source": [
    "## create submission file\n",
    "def sub_csv(model, model_num, test):\n",
    "    ## predict the test vectors\n",
    "    sample_submission = pd.read_csv(\"/kaggle/input/nlp-getting-started/sample_submission.csv\")\n",
    "    sample_submission[\"target\"] = [1 if i >=0.5 else 0 for i in model.predict(test)]\n",
    "    sample_submission.to_csv(\"submission{}.csv\".format(model_num), index = False)\n",
    "    print(\"# {} submission file created!\".format(model_num))"
   ]
  },
  {
   "cell_type": "code",
   "execution_count": 31,
   "id": "b4836f83",
   "metadata": {
    "papermill": {
     "duration": 0.071486,
     "end_time": "2022-03-25T16:23:59.395940",
     "exception": false,
     "start_time": "2022-03-25T16:23:59.324454",
     "status": "completed"
    },
    "tags": []
   },
   "outputs": [],
   "source": [
    "def create_pipelines(verbose = 1):\n",
    "    # initialize different layers for the deep learning models:\n",
    "    # including: embedding layer; LSTM layer; Dense layer; \n",
    "    # Also include different optimizers: Adam; RMSprop\n",
    "    embedding_dimensions = ['200']\n",
    "    lstm_setups = [(64, True), (64, False)]\n",
    "    optimizers = [Adam(learning_rate = 1e-5), RMSprop(learning_rate = 1e-5)]\n",
    "    pipelines = []\n",
    "    for embedding_dimension in embedding_dimensions:\n",
    "        embedding_layer = create_embedding(embedding_dimension)\n",
    "        for lstm_setup in lstm_setups:\n",
    "            lstm_neuron = lstm_setup[0]\n",
    "            lstm_bidir = lstm_setup[1]\n",
    "            lstm_layer = create_lstm(lstm_neuron, lstm_bidir)\n",
    "            for i in range(len(optimizers)):\n",
    "                model_name = 'embed_dimension'+embedding_dimension+'_lstm (' + str(lstm_neuron)+', '+str(lstm_bidir) + ')_'\n",
    "                if i == 0:\n",
    "                    model_name += 'Adam'\n",
    "                else:\n",
    "                    model_name += 'RMSprop'\n",
    "                pipeline = ([embedding_layer, lstm_layer, optimizers[i]], model_name)\n",
    "                pipelines.append(pipeline)\n",
    "    return pipelines\n",
    "            \n",
    "    "
   ]
  },
  {
   "cell_type": "code",
   "execution_count": 32,
   "id": "2fa1f99f",
   "metadata": {
    "papermill": {
     "duration": 0.067066,
     "end_time": "2022-03-25T16:23:59.525184",
     "exception": false,
     "start_time": "2022-03-25T16:23:59.458118",
     "status": "completed"
    },
    "tags": []
   },
   "outputs": [],
   "source": [
    "# pipelines = create_pipelines()"
   ]
  },
  {
   "cell_type": "code",
   "execution_count": 33,
   "id": "cbe999c3",
   "metadata": {
    "papermill": {
     "duration": 0.069417,
     "end_time": "2022-03-25T16:23:59.667473",
     "exception": false,
     "start_time": "2022-03-25T16:23:59.598056",
     "status": "completed"
    },
    "tags": []
   },
   "outputs": [],
   "source": [
    "# len(pipelines)"
   ]
  },
  {
   "cell_type": "code",
   "execution_count": 34,
   "id": "5a107d0e",
   "metadata": {
    "papermill": {
     "duration": 0.068403,
     "end_time": "2022-03-25T16:23:59.798477",
     "exception": false,
     "start_time": "2022-03-25T16:23:59.730074",
     "status": "completed"
    },
    "tags": []
   },
   "outputs": [],
   "source": [
    "# ## build deep learning model from the pipelines\n",
    "# for i in range(len(pipelines)):\n",
    "#     model_num = 'model'+str(i)\n",
    "#     pipeline = pipelines[i]\n",
    "#     embedding = pipeline[0][0]\n",
    "#     lstm = pipeline[0][1]\n",
    "#     optimizer = pipeline[0][2]\n",
    "#     model_name = pipeline[1]\n",
    "    \n",
    "#     ## create the model\n",
    "#     locals()[model_num] = tf.keras.Sequential()\n",
    "#     locals()[model_num].add(embedding)\n",
    "#     locals()[model_num].add(SpatialDropout1D(0.2))\n",
    "#     locals()[model_num].add(lstm)\n",
    "#     locals()[model_num].add(Dense(1, activation = 'sigmoid'))\n",
    "#     locals()[model_num].compile(loss = 'binary_crossentropy', optimizer = optimizer, metrics = ['accuracy'])"
   ]
  },
  {
   "cell_type": "markdown",
   "id": "867e4794",
   "metadata": {
    "papermill": {
     "duration": 0.061896,
     "end_time": "2022-03-25T16:23:59.922079",
     "exception": false,
     "start_time": "2022-03-25T16:23:59.860183",
     "status": "completed"
    },
    "tags": []
   },
   "source": [
    "## Choose what are good options for our model architecture by runing experiences with different models\n",
    "### Run the code in the below to train the total 4 models:\n",
    "* different LSTM layer (bidirection or not)\n",
    "* different optimizers (Adam or RMSprop). \n",
    "\n",
    "We skiped the following code in this notebook to reduce running time. I have previouly run the code and found the best performance is the model3.\n",
    "\n",
    "**We can add more models by changing embedding layer, Dense layer, etc. But remember that the more models are trained, the longer time it takes to run.**"
   ]
  },
  {
   "cell_type": "code",
   "execution_count": 35,
   "id": "b6710d51",
   "metadata": {
    "papermill": {
     "duration": 0.06842,
     "end_time": "2022-03-25T16:24:00.052364",
     "exception": false,
     "start_time": "2022-03-25T16:23:59.983944",
     "status": "completed"
    },
    "tags": []
   },
   "outputs": [],
   "source": [
    "## training models with given data\n",
    "# num_epochs = 15\n",
    "# histories = []\n",
    "# for i in range(len(pipelines)):\n",
    "#     model = locals()['model'+str(i)]\n",
    "#     history = model.fit(train_X, train_y, epochs = num_epochs, validation_data = (val_X, val_y))\n",
    "#     histories.append(history)\n",
    "#     plot_graph(history, \"accuracy\")\n",
    "#     plot_graph(history, \"loss\")\n",
    "#     sub_csv(model, i,test)"
   ]
  },
  {
   "cell_type": "markdown",
   "id": "2364986d",
   "metadata": {
    "papermill": {
     "duration": 0.062073,
     "end_time": "2022-03-25T16:24:00.176726",
     "exception": false,
     "start_time": "2022-03-25T16:24:00.114653",
     "status": "completed"
    },
    "tags": []
   },
   "source": [
    "### Since we found that model3 has the best training performance, I will increase the number of epochs for my model3 training."
   ]
  },
  {
   "cell_type": "code",
   "execution_count": 36,
   "id": "4f91deaa",
   "metadata": {
    "papermill": {
     "duration": 0.06885,
     "end_time": "2022-03-25T16:24:00.307881",
     "exception": false,
     "start_time": "2022-03-25T16:24:00.239031",
     "status": "completed"
    },
    "tags": []
   },
   "outputs": [],
   "source": [
    "# pipelines[3]"
   ]
  },
  {
   "cell_type": "code",
   "execution_count": 37,
   "id": "7164a4d4",
   "metadata": {
    "papermill": {
     "duration": 0.067773,
     "end_time": "2022-03-25T16:24:00.438082",
     "exception": false,
     "start_time": "2022-03-25T16:24:00.370309",
     "status": "completed"
    },
    "tags": []
   },
   "outputs": [],
   "source": [
    "# model3.summary()"
   ]
  },
  {
   "cell_type": "code",
   "execution_count": 38,
   "id": "25fec83d",
   "metadata": {
    "papermill": {
     "duration": 0.068434,
     "end_time": "2022-03-25T16:24:00.568166",
     "exception": false,
     "start_time": "2022-03-25T16:24:00.499732",
     "status": "completed"
    },
    "tags": []
   },
   "outputs": [],
   "source": [
    "# num_epochs = 70\n",
    "# history = model3.fit(train_X, train_y, epochs = num_epochs, validation_data = (val_X, val_y))\n",
    "# plot_graph(history, \"accuracy\")\n",
    "# plot_graph(history, \"loss\")\n",
    "# sub_csv(model3, 3,test)"
   ]
  },
  {
   "cell_type": "code",
   "execution_count": 39,
   "id": "ace1dee8",
   "metadata": {
    "papermill": {
     "duration": 37.714413,
     "end_time": "2022-03-25T16:24:38.344503",
     "exception": false,
     "start_time": "2022-03-25T16:24:00.630090",
     "status": "completed"
    },
    "tags": []
   },
   "outputs": [
    {
     "name": "stderr",
     "output_type": "stream",
     "text": [
      "100%|██████████████████████████████████████████████████████████████████████████| 20342/20342 [00:09<00:00, 2048.77it/s]\n"
     ]
    },
    {
     "name": "stdout",
     "output_type": "stream",
     "text": [
      "Embedding layer created!\n",
      "Model: \"sequential\"\n",
      "_________________________________________________________________\n",
      "Layer (type)                 Output Shape              Param #   \n",
      "=================================================================\n",
      "embedding_20341 (Embedding)  (None, 50, 200)           4068600   \n",
      "_________________________________________________________________\n",
      "spatial_dropout1d (SpatialDr (None, 50, 200)           0         \n",
      "_________________________________________________________________\n",
      "bidirectional (Bidirectional (None, 128)               135680    \n",
      "_________________________________________________________________\n",
      "dense (Dense)                (None, 1)                 129       \n",
      "=================================================================\n",
      "Total params: 4,204,409\n",
      "Trainable params: 135,809\n",
      "Non-trainable params: 4,068,600\n",
      "_________________________________________________________________\n"
     ]
    }
   ],
   "source": [
    "## try embedding dimension with 200D, and bidirectional lstm layer\n",
    "model = tf.keras.Sequential()\n",
    "model.add(create_embedding('200',source_path = True))\n",
    "model.add(SpatialDropout1D(0.2))\n",
    "model.add(create_lstm(64, True))\n",
    "model.add(Dense(1, activation = 'sigmoid'))\n",
    "model.compile(loss = 'binary_crossentropy', optimizer = RMSprop(learning_rate = 1e-5), metrics = ['accuracy'])\n",
    "model.summary()"
   ]
  },
  {
   "cell_type": "code",
   "execution_count": 40,
   "id": "fe988965",
   "metadata": {
    "papermill": {
     "duration": 3629.332522,
     "end_time": "2022-03-25T17:25:07.776069",
     "exception": false,
     "start_time": "2022-03-25T16:24:38.443547",
     "status": "completed"
    },
    "tags": []
   },
   "outputs": [
    {
     "name": "stdout",
     "output_type": "stream",
     "text": [
      "Epoch 1/40\n",
      "215/215 [==============================] - 44s 204ms/step - loss: nan - accuracy: 0.5687 - val_loss: nan - val_accuracy: 0.5853\n",
      "Epoch 2/40\n",
      "215/215 [==============================] - 43s 199ms/step - loss: nan - accuracy: 0.5687 - val_loss: nan - val_accuracy: 0.5853\n",
      "Epoch 3/40\n",
      "215/215 [==============================] - 44s 203ms/step - loss: nan - accuracy: 0.5687 - val_loss: nan - val_accuracy: 0.5853\n",
      "Epoch 4/40\n",
      "215/215 [==============================] - 44s 205ms/step - loss: nan - accuracy: 0.5687 - val_loss: nan - val_accuracy: 0.5853\n",
      "Epoch 5/40\n",
      "215/215 [==============================] - 44s 206ms/step - loss: nan - accuracy: 0.5687 - val_loss: nan - val_accuracy: 0.5853\n",
      "Epoch 6/40\n",
      "215/215 [==============================] - 52s 243ms/step - loss: nan - accuracy: 0.5687 - val_loss: nan - val_accuracy: 0.5853\n",
      "Epoch 7/40\n",
      "215/215 [==============================] - 54s 252ms/step - loss: nan - accuracy: 0.5687 - val_loss: nan - val_accuracy: 0.5853\n",
      "Epoch 8/40\n",
      "215/215 [==============================] - 53s 245ms/step - loss: nan - accuracy: 0.5687 - val_loss: nan - val_accuracy: 0.5853\n",
      "Epoch 9/40\n",
      "215/215 [==============================] - 47s 219ms/step - loss: nan - accuracy: 0.5687 - val_loss: nan - val_accuracy: 0.5853\n",
      "Epoch 10/40\n",
      "215/215 [==============================] - 47s 218ms/step - loss: nan - accuracy: 0.5687 - val_loss: nan - val_accuracy: 0.5853\n",
      "Epoch 11/40\n",
      "215/215 [==============================] - 50s 230ms/step - loss: nan - accuracy: 0.5687 - val_loss: nan - val_accuracy: 0.5853\n",
      "Epoch 12/40\n",
      "215/215 [==============================] - 51s 237ms/step - loss: nan - accuracy: 0.5687 - val_loss: nan - val_accuracy: 0.5853\n",
      "Epoch 13/40\n",
      "215/215 [==============================] - 50s 234ms/step - loss: nan - accuracy: 0.5687 - val_loss: nan - val_accuracy: 0.5853\n",
      "Epoch 14/40\n",
      "215/215 [==============================] - 50s 233ms/step - loss: nan - accuracy: 0.5687 - val_loss: nan - val_accuracy: 0.5853\n",
      "Epoch 15/40\n",
      "215/215 [==============================] - 41s 191ms/step - loss: nan - accuracy: 0.5687 - val_loss: nan - val_accuracy: 0.5853\n",
      "Epoch 16/40\n",
      "215/215 [==============================] - 42s 193ms/step - loss: nan - accuracy: 0.5687 - val_loss: nan - val_accuracy: 0.5853\n",
      "Epoch 17/40\n",
      "215/215 [==============================] - 41s 191ms/step - loss: nan - accuracy: 0.5687 - val_loss: nan - val_accuracy: 0.5853\n",
      "Epoch 18/40\n",
      "215/215 [==============================] - 41s 189ms/step - loss: nan - accuracy: 0.5687 - val_loss: nan - val_accuracy: 0.5853\n",
      "Epoch 19/40\n",
      "215/215 [==============================] - 38s 179ms/step - loss: nan - accuracy: 0.5687 - val_loss: nan - val_accuracy: 0.5853\n",
      "Epoch 20/40\n",
      "215/215 [==============================] - 39s 180ms/step - loss: nan - accuracy: 0.5687 - val_loss: nan - val_accuracy: 0.5853\n",
      "Epoch 21/40\n",
      "215/215 [==============================] - 39s 180ms/step - loss: nan - accuracy: 0.5687 - val_loss: nan - val_accuracy: 0.5853\n",
      "Epoch 22/40\n",
      "215/215 [==============================] - 39s 183ms/step - loss: nan - accuracy: 0.5687 - val_loss: nan - val_accuracy: 0.5853\n",
      "Epoch 23/40\n",
      "215/215 [==============================] - 40s 186ms/step - loss: nan - accuracy: 0.5687 - val_loss: nan - val_accuracy: 0.5853\n",
      "Epoch 24/40\n",
      "215/215 [==============================] - 39s 181ms/step - loss: nan - accuracy: 0.5687 - val_loss: nan - val_accuracy: 0.5853\n",
      "Epoch 25/40\n",
      "215/215 [==============================] - 40s 187ms/step - loss: nan - accuracy: 0.5687 - val_loss: nan - val_accuracy: 0.5853\n",
      "Epoch 26/40\n",
      "215/215 [==============================] - 48s 224ms/step - loss: nan - accuracy: 0.5687 - val_loss: nan - val_accuracy: 0.5853\n",
      "Epoch 27/40\n",
      "215/215 [==============================] - 55s 257ms/step - loss: nan - accuracy: 0.5687 - val_loss: nan - val_accuracy: 0.5853\n",
      "Epoch 28/40\n",
      "215/215 [==============================] - 55s 257ms/step - loss: nan - accuracy: 0.5687 - val_loss: nan - val_accuracy: 0.5853\n",
      "Epoch 29/40\n",
      "215/215 [==============================] - 58s 269ms/step - loss: nan - accuracy: 0.5687 - val_loss: nan - val_accuracy: 0.5853\n",
      "Epoch 30/40\n",
      "215/215 [==============================] - 53s 247ms/step - loss: nan - accuracy: 0.5687 - val_loss: nan - val_accuracy: 0.5853\n",
      "Epoch 31/40\n",
      "215/215 [==============================] - 53s 244ms/step - loss: nan - accuracy: 0.5687 - val_loss: nan - val_accuracy: 0.5853\n",
      "Epoch 32/40\n",
      "215/215 [==============================] - 56s 262ms/step - loss: nan - accuracy: 0.5687 - val_loss: nan - val_accuracy: 0.5853\n",
      "Epoch 33/40\n",
      "215/215 [==============================] - 58s 269ms/step - loss: nan - accuracy: 0.5687 - val_loss: nan - val_accuracy: 0.5853\n",
      "Epoch 34/40\n",
      "215/215 [==============================] - 56s 260ms/step - loss: nan - accuracy: 0.5687 - val_loss: nan - val_accuracy: 0.5853\n",
      "Epoch 35/40\n",
      "215/215 [==============================] - 53s 249ms/step - loss: nan - accuracy: 0.5687 - val_loss: nan - val_accuracy: 0.5853\n",
      "Epoch 36/40\n",
      "215/215 [==============================] - 56s 258ms/step - loss: nan - accuracy: 0.5687 - val_loss: nan - val_accuracy: 0.5853\n",
      "Epoch 37/40\n",
      "215/215 [==============================] - 57s 265ms/step - loss: nan - accuracy: 0.5687 - val_loss: nan - val_accuracy: 0.5853\n",
      "Epoch 38/40\n",
      "215/215 [==============================] - 60s 277ms/step - loss: nan - accuracy: 0.5687 - val_loss: nan - val_accuracy: 0.5853\n",
      "Epoch 39/40\n",
      "215/215 [==============================] - 61s 281ms/step - loss: nan - accuracy: 0.5687 - val_loss: nan - val_accuracy: 0.5853\n",
      "Epoch 40/40\n",
      "215/215 [==============================] - 61s 283ms/step - loss: nan - accuracy: 0.5687 - val_loss: nan - val_accuracy: 0.5853\n"
     ]
    },
    {
     "data": {
      "image/png": "[encoded data removed]",
      "text/plain": [
       "<Figure size 432x288 with 1 Axes>"
      ]
     },
     "metadata": {
      "needs_background": "light"
     },
     "output_type": "display_data"
    },
    {
     "data": {
      "image/png": "[encoded data removed]",
      "text/plain": [
       "<Figure size 432x288 with 1 Axes>"
      ]
     },
     "metadata": {
      "needs_background": "light"
     },
     "output_type": "display_data"
    },
    {
     "ename": "FileNotFoundError",
     "evalue": "[Errno 2] No such file or directory: '/kaggle/input/nlp-getting-started/sample_submission.csv'",
     "output_type": "error",
     "traceback": [
      "\u001b[1;31m---------------------------------------------------------------------------\u001b[0m",
      "\u001b[1;31mFileNotFoundError\u001b[0m                         Traceback (most recent call last)",
      "\u001b[1;32mC:\\Users\\HENRI_~1\\AppData\\Local\\Temp/ipykernel_4444/2242237736.py\u001b[0m in \u001b[0;36m<module>\u001b[1;34m\u001b[0m\n\u001b[0;32m      3\u001b[0m \u001b[0mplot_graph\u001b[0m\u001b[1;33m(\u001b[0m\u001b[0mhistory\u001b[0m\u001b[1;33m,\u001b[0m \u001b[1;34m\"accuracy\"\u001b[0m\u001b[1;33m)\u001b[0m\u001b[1;33m\u001b[0m\u001b[1;33m\u001b[0m\u001b[0m\n\u001b[0;32m      4\u001b[0m \u001b[0mplot_graph\u001b[0m\u001b[1;33m(\u001b[0m\u001b[0mhistory\u001b[0m\u001b[1;33m,\u001b[0m \u001b[1;34m\"loss\"\u001b[0m\u001b[1;33m)\u001b[0m\u001b[1;33m\u001b[0m\u001b[1;33m\u001b[0m\u001b[0m\n\u001b[1;32m----> 5\u001b[1;33m \u001b[0msub_csv\u001b[0m\u001b[1;33m(\u001b[0m\u001b[0mmodel\u001b[0m\u001b[1;33m,\u001b[0m \u001b[1;36m4\u001b[0m\u001b[1;33m,\u001b[0m\u001b[0mtest\u001b[0m\u001b[1;33m)\u001b[0m\u001b[1;33m\u001b[0m\u001b[1;33m\u001b[0m\u001b[0m\n\u001b[0m",
      "\u001b[1;32mC:\\Users\\HENRI_~1\\AppData\\Local\\Temp/ipykernel_4444/2441847439.py\u001b[0m in \u001b[0;36msub_csv\u001b[1;34m(model, model_num, test)\u001b[0m\n\u001b[0;32m      2\u001b[0m \u001b[1;32mdef\u001b[0m \u001b[0msub_csv\u001b[0m\u001b[1;33m(\u001b[0m\u001b[0mmodel\u001b[0m\u001b[1;33m,\u001b[0m \u001b[0mmodel_num\u001b[0m\u001b[1;33m,\u001b[0m \u001b[0mtest\u001b[0m\u001b[1;33m)\u001b[0m\u001b[1;33m:\u001b[0m\u001b[1;33m\u001b[0m\u001b[1;33m\u001b[0m\u001b[0m\n\u001b[0;32m      3\u001b[0m     \u001b[1;31m## predict the test vectors\u001b[0m\u001b[1;33m\u001b[0m\u001b[1;33m\u001b[0m\u001b[1;33m\u001b[0m\u001b[0m\n\u001b[1;32m----> 4\u001b[1;33m     \u001b[0msample_submission\u001b[0m \u001b[1;33m=\u001b[0m \u001b[0mpd\u001b[0m\u001b[1;33m.\u001b[0m\u001b[0mread_csv\u001b[0m\u001b[1;33m(\u001b[0m\u001b[1;34m\"/kaggle/input/nlp-getting-started/sample_submission.csv\"\u001b[0m\u001b[1;33m)\u001b[0m\u001b[1;33m\u001b[0m\u001b[1;33m\u001b[0m\u001b[0m\n\u001b[0m\u001b[0;32m      5\u001b[0m     \u001b[0msample_submission\u001b[0m\u001b[1;33m[\u001b[0m\u001b[1;34m\"target\"\u001b[0m\u001b[1;33m]\u001b[0m \u001b[1;33m=\u001b[0m \u001b[1;33m[\u001b[0m\u001b[1;36m1\u001b[0m \u001b[1;32mif\u001b[0m \u001b[0mi\u001b[0m \u001b[1;33m>=\u001b[0m\u001b[1;36m0.5\u001b[0m \u001b[1;32melse\u001b[0m \u001b[1;36m0\u001b[0m \u001b[1;32mfor\u001b[0m \u001b[0mi\u001b[0m \u001b[1;32min\u001b[0m \u001b[0mmodel\u001b[0m\u001b[1;33m.\u001b[0m\u001b[0mpredict\u001b[0m\u001b[1;33m(\u001b[0m\u001b[0mtest\u001b[0m\u001b[1;33m)\u001b[0m\u001b[1;33m]\u001b[0m\u001b[1;33m\u001b[0m\u001b[1;33m\u001b[0m\u001b[0m\n\u001b[0;32m      6\u001b[0m     \u001b[0msample_submission\u001b[0m\u001b[1;33m.\u001b[0m\u001b[0mto_csv\u001b[0m\u001b[1;33m(\u001b[0m\u001b[1;34m\"submission{}.csv\"\u001b[0m\u001b[1;33m.\u001b[0m\u001b[0mformat\u001b[0m\u001b[1;33m(\u001b[0m\u001b[0mmodel_num\u001b[0m\u001b[1;33m)\u001b[0m\u001b[1;33m,\u001b[0m \u001b[0mindex\u001b[0m \u001b[1;33m=\u001b[0m \u001b[1;32mFalse\u001b[0m\u001b[1;33m)\u001b[0m\u001b[1;33m\u001b[0m\u001b[1;33m\u001b[0m\u001b[0m\n",
      "\u001b[1;32m~\\miniconda3\\envs\\kaggle\\lib\\site-packages\\pandas\\util\\_decorators.py\u001b[0m in \u001b[0;36mwrapper\u001b[1;34m(*args, **kwargs)\u001b[0m\n\u001b[0;32m    309\u001b[0m                     \u001b[0mstacklevel\u001b[0m\u001b[1;33m=\u001b[0m\u001b[0mstacklevel\u001b[0m\u001b[1;33m,\u001b[0m\u001b[1;33m\u001b[0m\u001b[1;33m\u001b[0m\u001b[0m\n\u001b[0;32m    310\u001b[0m                 )\n\u001b[1;32m--> 311\u001b[1;33m             \u001b[1;32mreturn\u001b[0m \u001b[0mfunc\u001b[0m\u001b[1;33m(\u001b[0m\u001b[1;33m*\u001b[0m\u001b[0margs\u001b[0m\u001b[1;33m,\u001b[0m \u001b[1;33m**\u001b[0m\u001b[0mkwargs\u001b[0m\u001b[1;33m)\u001b[0m\u001b[1;33m\u001b[0m\u001b[1;33m\u001b[0m\u001b[0m\n\u001b[0m\u001b[0;32m    312\u001b[0m \u001b[1;33m\u001b[0m\u001b[0m\n\u001b[0;32m    313\u001b[0m         \u001b[1;32mreturn\u001b[0m \u001b[0mwrapper\u001b[0m\u001b[1;33m\u001b[0m\u001b[1;33m\u001b[0m\u001b[0m\n",
      "\u001b[1;32m~\\miniconda3\\envs\\kaggle\\lib\\site-packages\\pandas\\io\\parsers\\readers.py\u001b[0m in \u001b[0;36mread_csv\u001b[1;34m(filepath_or_buffer, sep, delimiter, header, names, index_col, usecols, squeeze, prefix, mangle_dupe_cols, dtype, engine, converters, true_values, false_values, skipinitialspace, skiprows, skipfooter, nrows, na_values, keep_default_na, na_filter, verbose, skip_blank_lines, parse_dates, infer_datetime_format, keep_date_col, date_parser, dayfirst, cache_dates, iterator, chunksize, compression, thousands, decimal, lineterminator, quotechar, quoting, doublequote, escapechar, comment, encoding, encoding_errors, dialect, error_bad_lines, warn_bad_lines, on_bad_lines, delim_whitespace, low_memory, memory_map, float_precision, storage_options)\u001b[0m\n\u001b[0;32m    678\u001b[0m     \u001b[0mkwds\u001b[0m\u001b[1;33m.\u001b[0m\u001b[0mupdate\u001b[0m\u001b[1;33m(\u001b[0m\u001b[0mkwds_defaults\u001b[0m\u001b[1;33m)\u001b[0m\u001b[1;33m\u001b[0m\u001b[1;33m\u001b[0m\u001b[0m\n\u001b[0;32m    679\u001b[0m \u001b[1;33m\u001b[0m\u001b[0m\n\u001b[1;32m--> 680\u001b[1;33m     \u001b[1;32mreturn\u001b[0m \u001b[0m_read\u001b[0m\u001b[1;33m(\u001b[0m\u001b[0mfilepath_or_buffer\u001b[0m\u001b[1;33m,\u001b[0m \u001b[0mkwds\u001b[0m\u001b[1;33m)\u001b[0m\u001b[1;33m\u001b[0m\u001b[1;33m\u001b[0m\u001b[0m\n\u001b[0m\u001b[0;32m    681\u001b[0m \u001b[1;33m\u001b[0m\u001b[0m\n\u001b[0;32m    682\u001b[0m \u001b[1;33m\u001b[0m\u001b[0m\n",
      "\u001b[1;32m~\\miniconda3\\envs\\kaggle\\lib\\site-packages\\pandas\\io\\parsers\\readers.py\u001b[0m in \u001b[0;36m_read\u001b[1;34m(filepath_or_buffer, kwds)\u001b[0m\n\u001b[0;32m    573\u001b[0m \u001b[1;33m\u001b[0m\u001b[0m\n\u001b[0;32m    574\u001b[0m     \u001b[1;31m# Create the parser.\u001b[0m\u001b[1;33m\u001b[0m\u001b[1;33m\u001b[0m\u001b[1;33m\u001b[0m\u001b[0m\n\u001b[1;32m--> 575\u001b[1;33m     \u001b[0mparser\u001b[0m \u001b[1;33m=\u001b[0m \u001b[0mTextFileReader\u001b[0m\u001b[1;33m(\u001b[0m\u001b[0mfilepath_or_buffer\u001b[0m\u001b[1;33m,\u001b[0m \u001b[1;33m**\u001b[0m\u001b[0mkwds\u001b[0m\u001b[1;33m)\u001b[0m\u001b[1;33m\u001b[0m\u001b[1;33m\u001b[0m\u001b[0m\n\u001b[0m\u001b[0;32m    576\u001b[0m \u001b[1;33m\u001b[0m\u001b[0m\n\u001b[0;32m    577\u001b[0m     \u001b[1;32mif\u001b[0m \u001b[0mchunksize\u001b[0m \u001b[1;32mor\u001b[0m \u001b[0miterator\u001b[0m\u001b[1;33m:\u001b[0m\u001b[1;33m\u001b[0m\u001b[1;33m\u001b[0m\u001b[0m\n",
      "\u001b[1;32m~\\miniconda3\\envs\\kaggle\\lib\\site-packages\\pandas\\io\\parsers\\readers.py\u001b[0m in \u001b[0;36m__init__\u001b[1;34m(self, f, engine, **kwds)\u001b[0m\n\u001b[0;32m    931\u001b[0m \u001b[1;33m\u001b[0m\u001b[0m\n\u001b[0;32m    932\u001b[0m         \u001b[0mself\u001b[0m\u001b[1;33m.\u001b[0m\u001b[0mhandles\u001b[0m\u001b[1;33m:\u001b[0m \u001b[0mIOHandles\u001b[0m \u001b[1;33m|\u001b[0m \u001b[1;32mNone\u001b[0m \u001b[1;33m=\u001b[0m \u001b[1;32mNone\u001b[0m\u001b[1;33m\u001b[0m\u001b[1;33m\u001b[0m\u001b[0m\n\u001b[1;32m--> 933\u001b[1;33m         \u001b[0mself\u001b[0m\u001b[1;33m.\u001b[0m\u001b[0m_engine\u001b[0m \u001b[1;33m=\u001b[0m \u001b[0mself\u001b[0m\u001b[1;33m.\u001b[0m\u001b[0m_make_engine\u001b[0m\u001b[1;33m(\u001b[0m\u001b[0mf\u001b[0m\u001b[1;33m,\u001b[0m \u001b[0mself\u001b[0m\u001b[1;33m.\u001b[0m\u001b[0mengine\u001b[0m\u001b[1;33m)\u001b[0m\u001b[1;33m\u001b[0m\u001b[1;33m\u001b[0m\u001b[0m\n\u001b[0m\u001b[0;32m    934\u001b[0m \u001b[1;33m\u001b[0m\u001b[0m\n\u001b[0;32m    935\u001b[0m     \u001b[1;32mdef\u001b[0m \u001b[0mclose\u001b[0m\u001b[1;33m(\u001b[0m\u001b[0mself\u001b[0m\u001b[1;33m)\u001b[0m\u001b[1;33m:\u001b[0m\u001b[1;33m\u001b[0m\u001b[1;33m\u001b[0m\u001b[0m\n",
      "\u001b[1;32m~\\miniconda3\\envs\\kaggle\\lib\\site-packages\\pandas\\io\\parsers\\readers.py\u001b[0m in \u001b[0;36m_make_engine\u001b[1;34m(self, f, engine)\u001b[0m\n\u001b[0;32m   1215\u001b[0m             \u001b[1;31m# \"Union[str, PathLike[str], ReadCsvBuffer[bytes], ReadCsvBuffer[str]]\"\u001b[0m\u001b[1;33m\u001b[0m\u001b[1;33m\u001b[0m\u001b[1;33m\u001b[0m\u001b[0m\n\u001b[0;32m   1216\u001b[0m             \u001b[1;31m# , \"str\", \"bool\", \"Any\", \"Any\", \"Any\", \"Any\", \"Any\"\u001b[0m\u001b[1;33m\u001b[0m\u001b[1;33m\u001b[0m\u001b[1;33m\u001b[0m\u001b[0m\n\u001b[1;32m-> 1217\u001b[1;33m             self.handles = get_handle(  # type: ignore[call-overload]\n\u001b[0m\u001b[0;32m   1218\u001b[0m                 \u001b[0mf\u001b[0m\u001b[1;33m,\u001b[0m\u001b[1;33m\u001b[0m\u001b[1;33m\u001b[0m\u001b[0m\n\u001b[0;32m   1219\u001b[0m                 \u001b[0mmode\u001b[0m\u001b[1;33m,\u001b[0m\u001b[1;33m\u001b[0m\u001b[1;33m\u001b[0m\u001b[0m\n",
      "\u001b[1;32m~\\miniconda3\\envs\\kaggle\\lib\\site-packages\\pandas\\io\\common.py\u001b[0m in \u001b[0;36mget_handle\u001b[1;34m(path_or_buf, mode, encoding, compression, memory_map, is_text, errors, storage_options)\u001b[0m\n\u001b[0;32m    787\u001b[0m         \u001b[1;32mif\u001b[0m \u001b[0mioargs\u001b[0m\u001b[1;33m.\u001b[0m\u001b[0mencoding\u001b[0m \u001b[1;32mand\u001b[0m \u001b[1;34m\"b\"\u001b[0m \u001b[1;32mnot\u001b[0m \u001b[1;32min\u001b[0m \u001b[0mioargs\u001b[0m\u001b[1;33m.\u001b[0m\u001b[0mmode\u001b[0m\u001b[1;33m:\u001b[0m\u001b[1;33m\u001b[0m\u001b[1;33m\u001b[0m\u001b[0m\n\u001b[0;32m    788\u001b[0m             \u001b[1;31m# Encoding\u001b[0m\u001b[1;33m\u001b[0m\u001b[1;33m\u001b[0m\u001b[1;33m\u001b[0m\u001b[0m\n\u001b[1;32m--> 789\u001b[1;33m             handle = open(\n\u001b[0m\u001b[0;32m    790\u001b[0m                 \u001b[0mhandle\u001b[0m\u001b[1;33m,\u001b[0m\u001b[1;33m\u001b[0m\u001b[1;33m\u001b[0m\u001b[0m\n\u001b[0;32m    791\u001b[0m                 \u001b[0mioargs\u001b[0m\u001b[1;33m.\u001b[0m\u001b[0mmode\u001b[0m\u001b[1;33m,\u001b[0m\u001b[1;33m\u001b[0m\u001b[1;33m\u001b[0m\u001b[0m\n",
      "\u001b[1;31mFileNotFoundError\u001b[0m: [Errno 2] No such file or directory: '/kaggle/input/nlp-getting-started/sample_submission.csv'"
     ]
    }
   ],
   "source": [
    "num_epochs = 40\n",
    "history = model.fit(train_X, train_y, epochs = num_epochs, validation_data = (val_X, val_y))\n",
    "plot_graph(history, \"accuracy\")\n",
    "plot_graph(history, \"loss\")\n",
    "sub_csv(model, 4,test)"
   ]
  }
 ],
 "metadata": {
  "kernelspec": {
   "display_name": "Python 3 (ipykernel)",
   "language": "python",
   "name": "python3"
  },
  "language_info": {
   "codemirror_mode": {
    "name": "ipython",
    "version": 3
   },
   "file_extension": ".py",
   "mimetype": "text/x-python",
   "name": "python",
   "nbconvert_exporter": "python",
   "pygments_lexer": "ipython3",
   "version": "3.8.12"
  },
  "papermill": {
   "default_parameters": {},
   "duration": 3718.532289,
   "end_time": "2022-03-25T17:25:19.371238",
   "environment_variables": {},
   "exception": null,
   "input_path": "__notebook__.ipynb",
   "output_path": "__notebook__.ipynb",
   "parameters": {},
   "start_time": "2022-03-25T16:23:20.838949",
   "version": "2.3.3"
  }
 },
 "nbformat": 4,
 "nbformat_minor": 5
}
